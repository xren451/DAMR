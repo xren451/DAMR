{
  "nbformat": 4,
  "nbformat_minor": 0,
  "metadata": {
    "colab": {
      "provenance": [],
      "toc_visible": true,
      "authorship_tag": "ABX9TyNmefROfNzgXOHBs+yokNxK",
      "include_colab_link": true
    },
    "kernelspec": {
      "name": "python3",
      "display_name": "Python 3"
    },
    "language_info": {
      "name": "python"
    },
    "widgets": {
      "application/vnd.jupyter.widget-state+json": {
        "600adf2464904e3fa114be02e00bef77": {
          "model_module": "@jupyter-widgets/controls",
          "model_name": "FloatSliderModel",
          "model_module_version": "1.5.0",
          "state": {
            "_dom_classes": [],
            "_model_module": "@jupyter-widgets/controls",
            "_model_module_version": "1.5.0",
            "_model_name": "FloatSliderModel",
            "_view_count": null,
            "_view_module": "@jupyter-widgets/controls",
            "_view_module_version": "1.5.0",
            "_view_name": "FloatSliderView",
            "continuous_update": true,
            "description": "Miss_perc:",
            "description_tooltip": null,
            "disabled": false,
            "layout": "IPY_MODEL_d5456608185341dcbddea6cd080a286b",
            "max": 100,
            "min": 0,
            "orientation": "horizontal",
            "readout": true,
            "readout_format": ".2f",
            "step": 0.1,
            "style": "IPY_MODEL_4f2d98b6d93c433790782e656fb78170",
            "value": 0.1
          }
        },
        "d5456608185341dcbddea6cd080a286b": {
          "model_module": "@jupyter-widgets/base",
          "model_name": "LayoutModel",
          "model_module_version": "1.2.0",
          "state": {
            "_model_module": "@jupyter-widgets/base",
            "_model_module_version": "1.2.0",
            "_model_name": "LayoutModel",
            "_view_count": null,
            "_view_module": "@jupyter-widgets/base",
            "_view_module_version": "1.2.0",
            "_view_name": "LayoutView",
            "align_content": null,
            "align_items": null,
            "align_self": null,
            "border": null,
            "bottom": null,
            "display": null,
            "flex": null,
            "flex_flow": null,
            "grid_area": null,
            "grid_auto_columns": null,
            "grid_auto_flow": null,
            "grid_auto_rows": null,
            "grid_column": null,
            "grid_gap": null,
            "grid_row": null,
            "grid_template_areas": null,
            "grid_template_columns": null,
            "grid_template_rows": null,
            "height": null,
            "justify_content": null,
            "justify_items": null,
            "left": null,
            "margin": null,
            "max_height": null,
            "max_width": null,
            "min_height": null,
            "min_width": null,
            "object_fit": null,
            "object_position": null,
            "order": null,
            "overflow": null,
            "overflow_x": null,
            "overflow_y": null,
            "padding": null,
            "right": null,
            "top": null,
            "visibility": null,
            "width": null
          }
        },
        "4f2d98b6d93c433790782e656fb78170": {
          "model_module": "@jupyter-widgets/controls",
          "model_name": "SliderStyleModel",
          "model_module_version": "1.5.0",
          "state": {
            "_model_module": "@jupyter-widgets/controls",
            "_model_module_version": "1.5.0",
            "_model_name": "SliderStyleModel",
            "_view_count": null,
            "_view_module": "@jupyter-widgets/base",
            "_view_module_version": "1.2.0",
            "_view_name": "StyleView",
            "description_width": "",
            "handle_color": null
          }
        },
        "a3ce3835639745b787c2ce0905d76cff": {
          "model_module": "@jupyter-widgets/controls",
          "model_name": "FloatSliderModel",
          "model_module_version": "1.5.0",
          "state": {
            "_dom_classes": [],
            "_model_module": "@jupyter-widgets/controls",
            "_model_module_version": "1.5.0",
            "_model_name": "FloatSliderModel",
            "_view_count": null,
            "_view_module": "@jupyter-widgets/controls",
            "_view_module_version": "1.5.0",
            "_view_name": "FloatSliderView",
            "continuous_update": true,
            "description": "Split_perc1:",
            "description_tooltip": null,
            "disabled": false,
            "layout": "IPY_MODEL_0990f64d028640509f24fcbf58738bc2",
            "max": 100,
            "min": 0,
            "orientation": "horizontal",
            "readout": true,
            "readout_format": ".2f",
            "step": 0.1,
            "style": "IPY_MODEL_d280ada8089348ca8967a6b4f6e3fcbf",
            "value": 0.8
          }
        },
        "0990f64d028640509f24fcbf58738bc2": {
          "model_module": "@jupyter-widgets/base",
          "model_name": "LayoutModel",
          "model_module_version": "1.2.0",
          "state": {
            "_model_module": "@jupyter-widgets/base",
            "_model_module_version": "1.2.0",
            "_model_name": "LayoutModel",
            "_view_count": null,
            "_view_module": "@jupyter-widgets/base",
            "_view_module_version": "1.2.0",
            "_view_name": "LayoutView",
            "align_content": null,
            "align_items": null,
            "align_self": null,
            "border": null,
            "bottom": null,
            "display": null,
            "flex": null,
            "flex_flow": null,
            "grid_area": null,
            "grid_auto_columns": null,
            "grid_auto_flow": null,
            "grid_auto_rows": null,
            "grid_column": null,
            "grid_gap": null,
            "grid_row": null,
            "grid_template_areas": null,
            "grid_template_columns": null,
            "grid_template_rows": null,
            "height": null,
            "justify_content": null,
            "justify_items": null,
            "left": null,
            "margin": null,
            "max_height": null,
            "max_width": null,
            "min_height": null,
            "min_width": null,
            "object_fit": null,
            "object_position": null,
            "order": null,
            "overflow": null,
            "overflow_x": null,
            "overflow_y": null,
            "padding": null,
            "right": null,
            "top": null,
            "visibility": null,
            "width": null
          }
        },
        "d280ada8089348ca8967a6b4f6e3fcbf": {
          "model_module": "@jupyter-widgets/controls",
          "model_name": "SliderStyleModel",
          "model_module_version": "1.5.0",
          "state": {
            "_model_module": "@jupyter-widgets/controls",
            "_model_module_version": "1.5.0",
            "_model_name": "SliderStyleModel",
            "_view_count": null,
            "_view_module": "@jupyter-widgets/base",
            "_view_module_version": "1.2.0",
            "_view_name": "StyleView",
            "description_width": "",
            "handle_color": null
          }
        },
        "405596ddc95d4e889a0598b4b075532f": {
          "model_module": "@jupyter-widgets/controls",
          "model_name": "FloatSliderModel",
          "model_module_version": "1.5.0",
          "state": {
            "_dom_classes": [],
            "_model_module": "@jupyter-widgets/controls",
            "_model_module_version": "1.5.0",
            "_model_name": "FloatSliderModel",
            "_view_count": null,
            "_view_module": "@jupyter-widgets/controls",
            "_view_module_version": "1.5.0",
            "_view_name": "FloatSliderView",
            "continuous_update": true,
            "description": "Split_perc2:",
            "description_tooltip": null,
            "disabled": false,
            "layout": "IPY_MODEL_7600492bb0c341d29f449e01d61dc2a4",
            "max": 100,
            "min": 0,
            "orientation": "horizontal",
            "readout": true,
            "readout_format": ".2f",
            "step": 0.1,
            "style": "IPY_MODEL_7ca560b2773949738a0ba18be607b208",
            "value": 0.1
          }
        },
        "7600492bb0c341d29f449e01d61dc2a4": {
          "model_module": "@jupyter-widgets/base",
          "model_name": "LayoutModel",
          "model_module_version": "1.2.0",
          "state": {
            "_model_module": "@jupyter-widgets/base",
            "_model_module_version": "1.2.0",
            "_model_name": "LayoutModel",
            "_view_count": null,
            "_view_module": "@jupyter-widgets/base",
            "_view_module_version": "1.2.0",
            "_view_name": "LayoutView",
            "align_content": null,
            "align_items": null,
            "align_self": null,
            "border": null,
            "bottom": null,
            "display": null,
            "flex": null,
            "flex_flow": null,
            "grid_area": null,
            "grid_auto_columns": null,
            "grid_auto_flow": null,
            "grid_auto_rows": null,
            "grid_column": null,
            "grid_gap": null,
            "grid_row": null,
            "grid_template_areas": null,
            "grid_template_columns": null,
            "grid_template_rows": null,
            "height": null,
            "justify_content": null,
            "justify_items": null,
            "left": null,
            "margin": null,
            "max_height": null,
            "max_width": null,
            "min_height": null,
            "min_width": null,
            "object_fit": null,
            "object_position": null,
            "order": null,
            "overflow": null,
            "overflow_x": null,
            "overflow_y": null,
            "padding": null,
            "right": null,
            "top": null,
            "visibility": null,
            "width": null
          }
        },
        "7ca560b2773949738a0ba18be607b208": {
          "model_module": "@jupyter-widgets/controls",
          "model_name": "SliderStyleModel",
          "model_module_version": "1.5.0",
          "state": {
            "_model_module": "@jupyter-widgets/controls",
            "_model_module_version": "1.5.0",
            "_model_name": "SliderStyleModel",
            "_view_count": null,
            "_view_module": "@jupyter-widgets/base",
            "_view_module_version": "1.2.0",
            "_view_name": "StyleView",
            "description_width": "",
            "handle_color": null
          }
        },
        "3ea14dc676aa449e9f68efa0be6a347e": {
          "model_module": "@jupyter-widgets/controls",
          "model_name": "FloatSliderModel",
          "model_module_version": "1.5.0",
          "state": {
            "_dom_classes": [],
            "_model_module": "@jupyter-widgets/controls",
            "_model_module_version": "1.5.0",
            "_model_name": "FloatSliderModel",
            "_view_count": null,
            "_view_module": "@jupyter-widgets/controls",
            "_view_module_version": "1.5.0",
            "_view_name": "FloatSliderView",
            "continuous_update": true,
            "description": "Learning Rate:",
            "description_tooltip": null,
            "disabled": false,
            "layout": "IPY_MODEL_01d25cba41d94e2d9457f893464aaf1d",
            "max": 100,
            "min": 0,
            "orientation": "horizontal",
            "readout": true,
            "readout_format": ".2f",
            "step": 0.1,
            "style": "IPY_MODEL_9b5db23f1bf7490e87879211818f5328",
            "value": 0.0001
          }
        },
        "01d25cba41d94e2d9457f893464aaf1d": {
          "model_module": "@jupyter-widgets/base",
          "model_name": "LayoutModel",
          "model_module_version": "1.2.0",
          "state": {
            "_model_module": "@jupyter-widgets/base",
            "_model_module_version": "1.2.0",
            "_model_name": "LayoutModel",
            "_view_count": null,
            "_view_module": "@jupyter-widgets/base",
            "_view_module_version": "1.2.0",
            "_view_name": "LayoutView",
            "align_content": null,
            "align_items": null,
            "align_self": null,
            "border": null,
            "bottom": null,
            "display": null,
            "flex": null,
            "flex_flow": null,
            "grid_area": null,
            "grid_auto_columns": null,
            "grid_auto_flow": null,
            "grid_auto_rows": null,
            "grid_column": null,
            "grid_gap": null,
            "grid_row": null,
            "grid_template_areas": null,
            "grid_template_columns": null,
            "grid_template_rows": null,
            "height": null,
            "justify_content": null,
            "justify_items": null,
            "left": null,
            "margin": null,
            "max_height": null,
            "max_width": null,
            "min_height": null,
            "min_width": null,
            "object_fit": null,
            "object_position": null,
            "order": null,
            "overflow": null,
            "overflow_x": null,
            "overflow_y": null,
            "padding": null,
            "right": null,
            "top": null,
            "visibility": null,
            "width": null
          }
        },
        "9b5db23f1bf7490e87879211818f5328": {
          "model_module": "@jupyter-widgets/controls",
          "model_name": "SliderStyleModel",
          "model_module_version": "1.5.0",
          "state": {
            "_model_module": "@jupyter-widgets/controls",
            "_model_module_version": "1.5.0",
            "_model_name": "SliderStyleModel",
            "_view_count": null,
            "_view_module": "@jupyter-widgets/base",
            "_view_module_version": "1.2.0",
            "_view_name": "StyleView",
            "description_width": "",
            "handle_color": null
          }
        },
        "cba7de7b380a44888c63205bbe00d077": {
          "model_module": "@jupyter-widgets/controls",
          "model_name": "IntSliderModel",
          "model_module_version": "1.5.0",
          "state": {
            "_dom_classes": [],
            "_model_module": "@jupyter-widgets/controls",
            "_model_module_version": "1.5.0",
            "_model_name": "IntSliderModel",
            "_view_count": null,
            "_view_module": "@jupyter-widgets/controls",
            "_view_module_version": "1.5.0",
            "_view_name": "IntSliderView",
            "continuous_update": true,
            "description": "Batch Size:",
            "description_tooltip": null,
            "disabled": false,
            "layout": "IPY_MODEL_fa434e31c19c480dbbb469b0eea47bb3",
            "max": 100,
            "min": 0,
            "orientation": "horizontal",
            "readout": true,
            "readout_format": "d",
            "step": 1,
            "style": "IPY_MODEL_7a2f335ecd264edca9af3b8a1b3007fb",
            "value": 24
          }
        },
        "fa434e31c19c480dbbb469b0eea47bb3": {
          "model_module": "@jupyter-widgets/base",
          "model_name": "LayoutModel",
          "model_module_version": "1.2.0",
          "state": {
            "_model_module": "@jupyter-widgets/base",
            "_model_module_version": "1.2.0",
            "_model_name": "LayoutModel",
            "_view_count": null,
            "_view_module": "@jupyter-widgets/base",
            "_view_module_version": "1.2.0",
            "_view_name": "LayoutView",
            "align_content": null,
            "align_items": null,
            "align_self": null,
            "border": null,
            "bottom": null,
            "display": null,
            "flex": null,
            "flex_flow": null,
            "grid_area": null,
            "grid_auto_columns": null,
            "grid_auto_flow": null,
            "grid_auto_rows": null,
            "grid_column": null,
            "grid_gap": null,
            "grid_row": null,
            "grid_template_areas": null,
            "grid_template_columns": null,
            "grid_template_rows": null,
            "height": null,
            "justify_content": null,
            "justify_items": null,
            "left": null,
            "margin": null,
            "max_height": null,
            "max_width": null,
            "min_height": null,
            "min_width": null,
            "object_fit": null,
            "object_position": null,
            "order": null,
            "overflow": null,
            "overflow_x": null,
            "overflow_y": null,
            "padding": null,
            "right": null,
            "top": null,
            "visibility": null,
            "width": null
          }
        },
        "7a2f335ecd264edca9af3b8a1b3007fb": {
          "model_module": "@jupyter-widgets/controls",
          "model_name": "SliderStyleModel",
          "model_module_version": "1.5.0",
          "state": {
            "_model_module": "@jupyter-widgets/controls",
            "_model_module_version": "1.5.0",
            "_model_name": "SliderStyleModel",
            "_view_count": null,
            "_view_module": "@jupyter-widgets/base",
            "_view_module_version": "1.2.0",
            "_view_name": "StyleView",
            "description_width": "",
            "handle_color": null
          }
        },
        "bf6e518bbdd043db8e70e258a90f942e": {
          "model_module": "@jupyter-widgets/controls",
          "model_name": "IntSliderModel",
          "model_module_version": "1.5.0",
          "state": {
            "_dom_classes": [],
            "_model_module": "@jupyter-widgets/controls",
            "_model_module_version": "1.5.0",
            "_model_name": "IntSliderModel",
            "_view_count": null,
            "_view_module": "@jupyter-widgets/controls",
            "_view_module_version": "1.5.0",
            "_view_name": "IntSliderView",
            "continuous_update": true,
            "description": "Epochs:",
            "description_tooltip": null,
            "disabled": false,
            "layout": "IPY_MODEL_cc525fab35ac485288c368d5480710a1",
            "max": 100,
            "min": 0,
            "orientation": "horizontal",
            "readout": true,
            "readout_format": "d",
            "step": 1,
            "style": "IPY_MODEL_2df267525f9f4dd2aeaaf3574ec6a68c",
            "value": 100
          }
        },
        "cc525fab35ac485288c368d5480710a1": {
          "model_module": "@jupyter-widgets/base",
          "model_name": "LayoutModel",
          "model_module_version": "1.2.0",
          "state": {
            "_model_module": "@jupyter-widgets/base",
            "_model_module_version": "1.2.0",
            "_model_name": "LayoutModel",
            "_view_count": null,
            "_view_module": "@jupyter-widgets/base",
            "_view_module_version": "1.2.0",
            "_view_name": "LayoutView",
            "align_content": null,
            "align_items": null,
            "align_self": null,
            "border": null,
            "bottom": null,
            "display": null,
            "flex": null,
            "flex_flow": null,
            "grid_area": null,
            "grid_auto_columns": null,
            "grid_auto_flow": null,
            "grid_auto_rows": null,
            "grid_column": null,
            "grid_gap": null,
            "grid_row": null,
            "grid_template_areas": null,
            "grid_template_columns": null,
            "grid_template_rows": null,
            "height": null,
            "justify_content": null,
            "justify_items": null,
            "left": null,
            "margin": null,
            "max_height": null,
            "max_width": null,
            "min_height": null,
            "min_width": null,
            "object_fit": null,
            "object_position": null,
            "order": null,
            "overflow": null,
            "overflow_x": null,
            "overflow_y": null,
            "padding": null,
            "right": null,
            "top": null,
            "visibility": null,
            "width": null
          }
        },
        "2df267525f9f4dd2aeaaf3574ec6a68c": {
          "model_module": "@jupyter-widgets/controls",
          "model_name": "SliderStyleModel",
          "model_module_version": "1.5.0",
          "state": {
            "_model_module": "@jupyter-widgets/controls",
            "_model_module_version": "1.5.0",
            "_model_name": "SliderStyleModel",
            "_view_count": null,
            "_view_module": "@jupyter-widgets/base",
            "_view_module_version": "1.2.0",
            "_view_name": "StyleView",
            "description_width": "",
            "handle_color": null
          }
        },
        "b2f684324c934212b4ef56d4613d03b4": {
          "model_module": "@jupyter-widgets/controls",
          "model_name": "IntSliderModel",
          "model_module_version": "1.5.0",
          "state": {
            "_dom_classes": [],
            "_model_module": "@jupyter-widgets/controls",
            "_model_module_version": "1.5.0",
            "_model_name": "IntSliderModel",
            "_view_count": null,
            "_view_module": "@jupyter-widgets/controls",
            "_view_module_version": "1.5.0",
            "_view_name": "IntSliderView",
            "continuous_update": true,
            "description": "Seed:",
            "description_tooltip": null,
            "disabled": false,
            "layout": "IPY_MODEL_1652e424e6f244d58853f8a091323db4",
            "max": 100,
            "min": 0,
            "orientation": "horizontal",
            "readout": true,
            "readout_format": "d",
            "step": 1,
            "style": "IPY_MODEL_1edb28c73a21420ea09cc00262e7c66c",
            "value": 42
          }
        },
        "1652e424e6f244d58853f8a091323db4": {
          "model_module": "@jupyter-widgets/base",
          "model_name": "LayoutModel",
          "model_module_version": "1.2.0",
          "state": {
            "_model_module": "@jupyter-widgets/base",
            "_model_module_version": "1.2.0",
            "_model_name": "LayoutModel",
            "_view_count": null,
            "_view_module": "@jupyter-widgets/base",
            "_view_module_version": "1.2.0",
            "_view_name": "LayoutView",
            "align_content": null,
            "align_items": null,
            "align_self": null,
            "border": null,
            "bottom": null,
            "display": null,
            "flex": null,
            "flex_flow": null,
            "grid_area": null,
            "grid_auto_columns": null,
            "grid_auto_flow": null,
            "grid_auto_rows": null,
            "grid_column": null,
            "grid_gap": null,
            "grid_row": null,
            "grid_template_areas": null,
            "grid_template_columns": null,
            "grid_template_rows": null,
            "height": null,
            "justify_content": null,
            "justify_items": null,
            "left": null,
            "margin": null,
            "max_height": null,
            "max_width": null,
            "min_height": null,
            "min_width": null,
            "object_fit": null,
            "object_position": null,
            "order": null,
            "overflow": null,
            "overflow_x": null,
            "overflow_y": null,
            "padding": null,
            "right": null,
            "top": null,
            "visibility": null,
            "width": null
          }
        },
        "1edb28c73a21420ea09cc00262e7c66c": {
          "model_module": "@jupyter-widgets/controls",
          "model_name": "SliderStyleModel",
          "model_module_version": "1.5.0",
          "state": {
            "_model_module": "@jupyter-widgets/controls",
            "_model_module_version": "1.5.0",
            "_model_name": "SliderStyleModel",
            "_view_count": null,
            "_view_module": "@jupyter-widgets/base",
            "_view_module_version": "1.2.0",
            "_view_name": "StyleView",
            "description_width": "",
            "handle_color": null
          }
        },
        "e637975f15694f50a70b1fc6e60a48a2": {
          "model_module": "@jupyter-widgets/controls",
          "model_name": "IntSliderModel",
          "model_module_version": "1.5.0",
          "state": {
            "_dom_classes": [],
            "_model_module": "@jupyter-widgets/controls",
            "_model_module_version": "1.5.0",
            "_model_name": "IntSliderModel",
            "_view_count": null,
            "_view_module": "@jupyter-widgets/controls",
            "_view_module_version": "1.5.0",
            "_view_name": "IntSliderView",
            "continuous_update": true,
            "description": "Verbose:",
            "description_tooltip": null,
            "disabled": false,
            "layout": "IPY_MODEL_84a341e57f6a4001a6ea8579a7bf6b26",
            "max": 100,
            "min": 0,
            "orientation": "horizontal",
            "readout": true,
            "readout_format": "d",
            "step": 1,
            "style": "IPY_MODEL_0ce00ba24d7245b2af688225bc7332cf",
            "value": 1
          }
        },
        "84a341e57f6a4001a6ea8579a7bf6b26": {
          "model_module": "@jupyter-widgets/base",
          "model_name": "LayoutModel",
          "model_module_version": "1.2.0",
          "state": {
            "_model_module": "@jupyter-widgets/base",
            "_model_module_version": "1.2.0",
            "_model_name": "LayoutModel",
            "_view_count": null,
            "_view_module": "@jupyter-widgets/base",
            "_view_module_version": "1.2.0",
            "_view_name": "LayoutView",
            "align_content": null,
            "align_items": null,
            "align_self": null,
            "border": null,
            "bottom": null,
            "display": null,
            "flex": null,
            "flex_flow": null,
            "grid_area": null,
            "grid_auto_columns": null,
            "grid_auto_flow": null,
            "grid_auto_rows": null,
            "grid_column": null,
            "grid_gap": null,
            "grid_row": null,
            "grid_template_areas": null,
            "grid_template_columns": null,
            "grid_template_rows": null,
            "height": null,
            "justify_content": null,
            "justify_items": null,
            "left": null,
            "margin": null,
            "max_height": null,
            "max_width": null,
            "min_height": null,
            "min_width": null,
            "object_fit": null,
            "object_position": null,
            "order": null,
            "overflow": null,
            "overflow_x": null,
            "overflow_y": null,
            "padding": null,
            "right": null,
            "top": null,
            "visibility": null,
            "width": null
          }
        },
        "0ce00ba24d7245b2af688225bc7332cf": {
          "model_module": "@jupyter-widgets/controls",
          "model_name": "SliderStyleModel",
          "model_module_version": "1.5.0",
          "state": {
            "_model_module": "@jupyter-widgets/controls",
            "_model_module_version": "1.5.0",
            "_model_name": "SliderStyleModel",
            "_view_count": null,
            "_view_module": "@jupyter-widgets/base",
            "_view_module_version": "1.2.0",
            "_view_name": "StyleView",
            "description_width": "",
            "handle_color": null
          }
        }
      }
    }
  },
  "cells": [
    {
      "cell_type": "markdown",
      "metadata": {
        "id": "view-in-github",
        "colab_type": "text"
      },
      "source": [
        "<a href=\"https://colab.research.google.com/github/xren451/DAMR/blob/main/DAMR_AIRQUALITY.ipynb\" target=\"_parent\"><img src=\"https://colab.research.google.com/assets/colab-badge.svg\" alt=\"Open In Colab\"/></a>"
      ]
    },
    {
      "cell_type": "code",
      "source": [
        "#DAMR code"
      ],
      "metadata": {
        "id": "p3bAwxV16_PS"
      },
      "execution_count": 1,
      "outputs": []
    },
    {
      "cell_type": "code",
      "execution_count": 2,
      "metadata": {
        "colab": {
          "base_uri": "https://localhost:8080/"
        },
        "id": "zCDGWldi6mcc",
        "outputId": "88fe170c-5797-46b6-868d-7a5cf0e4f542"
      },
      "outputs": [
        {
          "output_type": "stream",
          "name": "stdout",
          "text": [
            "fatal: destination path 'DAMR' already exists and is not an empty directory.\n"
          ]
        }
      ],
      "source": [
        "!git clone https://github.com/xren451/DAMR.git"
      ]
    },
    {
      "cell_type": "code",
      "source": [
        "from google.colab import drive\n",
        "import sys\n",
        "drive.mount('/content/drive')\n",
        "\n",
        "if not 'DAMR' in sys.path:\n",
        "    sys.path += ['DAMR']"
      ],
      "metadata": {
        "colab": {
          "base_uri": "https://localhost:8080/"
        },
        "id": "RMjU9mmaSFeY",
        "outputId": "5ef9ba81-47b0-4fa6-ff3a-fae36da6f022"
      },
      "execution_count": 3,
      "outputs": [
        {
          "output_type": "stream",
          "name": "stdout",
          "text": [
            "Drive already mounted at /content/drive; to attempt to forcibly remount, call drive.mount(\"/content/drive\", force_remount=True).\n"
          ]
        }
      ]
    },
    {
      "cell_type": "markdown",
      "source": [
        "#DAMR\n",
        "\n",
        "Hi, here is the code of DAMR (Dynamic Ajacency Matrix Representation) for data imputation on imputation task.\n"
      ],
      "metadata": {
        "id": "Taon5NjiSUh4"
      }
    },
    {
      "cell_type": "code",
      "source": [
        "!pip install spektral\n",
        "!pip install fancyimpute"
      ],
      "metadata": {
        "colab": {
          "base_uri": "https://localhost:8080/"
        },
        "id": "_o0IKpZiSzlm",
        "outputId": "0af63515-b5c9-4ba9-8b02-2a49ecb57321"
      },
      "execution_count": 4,
      "outputs": [
        {
          "output_type": "stream",
          "name": "stdout",
          "text": [
            "Requirement already satisfied: spektral in /usr/local/lib/python3.10/dist-packages (1.3.0)\n",
            "Requirement already satisfied: joblib in /usr/local/lib/python3.10/dist-packages (from spektral) (1.3.2)\n",
            "Requirement already satisfied: lxml in /usr/local/lib/python3.10/dist-packages (from spektral) (4.9.4)\n",
            "Requirement already satisfied: networkx in /usr/local/lib/python3.10/dist-packages (from spektral) (3.2.1)\n",
            "Requirement already satisfied: numpy in /usr/local/lib/python3.10/dist-packages (from spektral) (1.23.5)\n",
            "Requirement already satisfied: pandas in /usr/local/lib/python3.10/dist-packages (from spektral) (1.5.3)\n",
            "Requirement already satisfied: requests in /usr/local/lib/python3.10/dist-packages (from spektral) (2.31.0)\n",
            "Requirement already satisfied: scikit-learn in /usr/local/lib/python3.10/dist-packages (from spektral) (1.2.2)\n",
            "Requirement already satisfied: scipy in /usr/local/lib/python3.10/dist-packages (from spektral) (1.11.4)\n",
            "Requirement already satisfied: tqdm in /usr/local/lib/python3.10/dist-packages (from spektral) (4.66.1)\n",
            "Requirement already satisfied: tensorflow>=2.2.0 in /usr/local/lib/python3.10/dist-packages (from spektral) (2.15.0)\n",
            "Requirement already satisfied: absl-py>=1.0.0 in /usr/local/lib/python3.10/dist-packages (from tensorflow>=2.2.0->spektral) (1.4.0)\n",
            "Requirement already satisfied: astunparse>=1.6.0 in /usr/local/lib/python3.10/dist-packages (from tensorflow>=2.2.0->spektral) (1.6.3)\n",
            "Requirement already satisfied: flatbuffers>=23.5.26 in /usr/local/lib/python3.10/dist-packages (from tensorflow>=2.2.0->spektral) (23.5.26)\n",
            "Requirement already satisfied: gast!=0.5.0,!=0.5.1,!=0.5.2,>=0.2.1 in /usr/local/lib/python3.10/dist-packages (from tensorflow>=2.2.0->spektral) (0.5.4)\n",
            "Requirement already satisfied: google-pasta>=0.1.1 in /usr/local/lib/python3.10/dist-packages (from tensorflow>=2.2.0->spektral) (0.2.0)\n",
            "Requirement already satisfied: h5py>=2.9.0 in /usr/local/lib/python3.10/dist-packages (from tensorflow>=2.2.0->spektral) (3.9.0)\n",
            "Requirement already satisfied: libclang>=13.0.0 in /usr/local/lib/python3.10/dist-packages (from tensorflow>=2.2.0->spektral) (16.0.6)\n",
            "Requirement already satisfied: ml-dtypes~=0.2.0 in /usr/local/lib/python3.10/dist-packages (from tensorflow>=2.2.0->spektral) (0.2.0)\n",
            "Requirement already satisfied: opt-einsum>=2.3.2 in /usr/local/lib/python3.10/dist-packages (from tensorflow>=2.2.0->spektral) (3.3.0)\n",
            "Requirement already satisfied: packaging in /usr/local/lib/python3.10/dist-packages (from tensorflow>=2.2.0->spektral) (23.2)\n",
            "Requirement already satisfied: protobuf!=4.21.0,!=4.21.1,!=4.21.2,!=4.21.3,!=4.21.4,!=4.21.5,<5.0.0dev,>=3.20.3 in /usr/local/lib/python3.10/dist-packages (from tensorflow>=2.2.0->spektral) (3.20.3)\n",
            "Requirement already satisfied: setuptools in /usr/local/lib/python3.10/dist-packages (from tensorflow>=2.2.0->spektral) (67.7.2)\n",
            "Requirement already satisfied: six>=1.12.0 in /usr/local/lib/python3.10/dist-packages (from tensorflow>=2.2.0->spektral) (1.16.0)\n",
            "Requirement already satisfied: termcolor>=1.1.0 in /usr/local/lib/python3.10/dist-packages (from tensorflow>=2.2.0->spektral) (2.4.0)\n",
            "Requirement already satisfied: typing-extensions>=3.6.6 in /usr/local/lib/python3.10/dist-packages (from tensorflow>=2.2.0->spektral) (4.5.0)\n",
            "Requirement already satisfied: wrapt<1.15,>=1.11.0 in /usr/local/lib/python3.10/dist-packages (from tensorflow>=2.2.0->spektral) (1.14.1)\n",
            "Requirement already satisfied: tensorflow-io-gcs-filesystem>=0.23.1 in /usr/local/lib/python3.10/dist-packages (from tensorflow>=2.2.0->spektral) (0.35.0)\n",
            "Requirement already satisfied: grpcio<2.0,>=1.24.3 in /usr/local/lib/python3.10/dist-packages (from tensorflow>=2.2.0->spektral) (1.60.0)\n",
            "Requirement already satisfied: tensorboard<2.16,>=2.15 in /usr/local/lib/python3.10/dist-packages (from tensorflow>=2.2.0->spektral) (2.15.1)\n",
            "Requirement already satisfied: tensorflow-estimator<2.16,>=2.15.0 in /usr/local/lib/python3.10/dist-packages (from tensorflow>=2.2.0->spektral) (2.15.0)\n",
            "Requirement already satisfied: keras<2.16,>=2.15.0 in /usr/local/lib/python3.10/dist-packages (from tensorflow>=2.2.0->spektral) (2.15.0)\n",
            "Requirement already satisfied: python-dateutil>=2.8.1 in /usr/local/lib/python3.10/dist-packages (from pandas->spektral) (2.8.2)\n",
            "Requirement already satisfied: pytz>=2020.1 in /usr/local/lib/python3.10/dist-packages (from pandas->spektral) (2023.3.post1)\n",
            "Requirement already satisfied: charset-normalizer<4,>=2 in /usr/local/lib/python3.10/dist-packages (from requests->spektral) (3.3.2)\n",
            "Requirement already satisfied: idna<4,>=2.5 in /usr/local/lib/python3.10/dist-packages (from requests->spektral) (3.6)\n",
            "Requirement already satisfied: urllib3<3,>=1.21.1 in /usr/local/lib/python3.10/dist-packages (from requests->spektral) (2.0.7)\n",
            "Requirement already satisfied: certifi>=2017.4.17 in /usr/local/lib/python3.10/dist-packages (from requests->spektral) (2023.11.17)\n",
            "Requirement already satisfied: threadpoolctl>=2.0.0 in /usr/local/lib/python3.10/dist-packages (from scikit-learn->spektral) (3.2.0)\n",
            "Requirement already satisfied: wheel<1.0,>=0.23.0 in /usr/local/lib/python3.10/dist-packages (from astunparse>=1.6.0->tensorflow>=2.2.0->spektral) (0.42.0)\n",
            "Requirement already satisfied: google-auth<3,>=1.6.3 in /usr/local/lib/python3.10/dist-packages (from tensorboard<2.16,>=2.15->tensorflow>=2.2.0->spektral) (2.17.3)\n",
            "Requirement already satisfied: google-auth-oauthlib<2,>=0.5 in /usr/local/lib/python3.10/dist-packages (from tensorboard<2.16,>=2.15->tensorflow>=2.2.0->spektral) (1.2.0)\n",
            "Requirement already satisfied: markdown>=2.6.8 in /usr/local/lib/python3.10/dist-packages (from tensorboard<2.16,>=2.15->tensorflow>=2.2.0->spektral) (3.5.2)\n",
            "Requirement already satisfied: tensorboard-data-server<0.8.0,>=0.7.0 in /usr/local/lib/python3.10/dist-packages (from tensorboard<2.16,>=2.15->tensorflow>=2.2.0->spektral) (0.7.2)\n",
            "Requirement already satisfied: werkzeug>=1.0.1 in /usr/local/lib/python3.10/dist-packages (from tensorboard<2.16,>=2.15->tensorflow>=2.2.0->spektral) (3.0.1)\n",
            "Requirement already satisfied: cachetools<6.0,>=2.0.0 in /usr/local/lib/python3.10/dist-packages (from google-auth<3,>=1.6.3->tensorboard<2.16,>=2.15->tensorflow>=2.2.0->spektral) (5.3.2)\n",
            "Requirement already satisfied: pyasn1-modules>=0.2.1 in /usr/local/lib/python3.10/dist-packages (from google-auth<3,>=1.6.3->tensorboard<2.16,>=2.15->tensorflow>=2.2.0->spektral) (0.3.0)\n",
            "Requirement already satisfied: rsa<5,>=3.1.4 in /usr/local/lib/python3.10/dist-packages (from google-auth<3,>=1.6.3->tensorboard<2.16,>=2.15->tensorflow>=2.2.0->spektral) (4.9)\n",
            "Requirement already satisfied: requests-oauthlib>=0.7.0 in /usr/local/lib/python3.10/dist-packages (from google-auth-oauthlib<2,>=0.5->tensorboard<2.16,>=2.15->tensorflow>=2.2.0->spektral) (1.3.1)\n",
            "Requirement already satisfied: MarkupSafe>=2.1.1 in /usr/local/lib/python3.10/dist-packages (from werkzeug>=1.0.1->tensorboard<2.16,>=2.15->tensorflow>=2.2.0->spektral) (2.1.3)\n",
            "Requirement already satisfied: pyasn1<0.6.0,>=0.4.6 in /usr/local/lib/python3.10/dist-packages (from pyasn1-modules>=0.2.1->google-auth<3,>=1.6.3->tensorboard<2.16,>=2.15->tensorflow>=2.2.0->spektral) (0.5.1)\n",
            "Requirement already satisfied: oauthlib>=3.0.0 in /usr/local/lib/python3.10/dist-packages (from requests-oauthlib>=0.7.0->google-auth-oauthlib<2,>=0.5->tensorboard<2.16,>=2.15->tensorflow>=2.2.0->spektral) (3.2.2)\n",
            "Requirement already satisfied: fancyimpute in /usr/local/lib/python3.10/dist-packages (0.7.0)\n",
            "Requirement already satisfied: knnimpute>=0.1.0 in /usr/local/lib/python3.10/dist-packages (from fancyimpute) (0.1.0)\n",
            "Requirement already satisfied: scikit-learn>=0.24.2 in /usr/local/lib/python3.10/dist-packages (from fancyimpute) (1.2.2)\n",
            "Requirement already satisfied: cvxpy in /usr/local/lib/python3.10/dist-packages (from fancyimpute) (1.3.2)\n",
            "Requirement already satisfied: cvxopt in /usr/local/lib/python3.10/dist-packages (from fancyimpute) (1.3.2)\n",
            "Requirement already satisfied: pytest in /usr/local/lib/python3.10/dist-packages (from fancyimpute) (7.4.4)\n",
            "Requirement already satisfied: nose in /usr/local/lib/python3.10/dist-packages (from fancyimpute) (1.3.7)\n",
            "Requirement already satisfied: six in /usr/local/lib/python3.10/dist-packages (from knnimpute>=0.1.0->fancyimpute) (1.16.0)\n",
            "Requirement already satisfied: numpy>=1.10 in /usr/local/lib/python3.10/dist-packages (from knnimpute>=0.1.0->fancyimpute) (1.23.5)\n",
            "Requirement already satisfied: scipy>=1.3.2 in /usr/local/lib/python3.10/dist-packages (from scikit-learn>=0.24.2->fancyimpute) (1.11.4)\n",
            "Requirement already satisfied: joblib>=1.1.1 in /usr/local/lib/python3.10/dist-packages (from scikit-learn>=0.24.2->fancyimpute) (1.3.2)\n",
            "Requirement already satisfied: threadpoolctl>=2.0.0 in /usr/local/lib/python3.10/dist-packages (from scikit-learn>=0.24.2->fancyimpute) (3.2.0)\n",
            "Requirement already satisfied: osqp>=0.4.1 in /usr/local/lib/python3.10/dist-packages (from cvxpy->fancyimpute) (0.6.2.post8)\n",
            "Requirement already satisfied: ecos>=2 in /usr/local/lib/python3.10/dist-packages (from cvxpy->fancyimpute) (2.0.12)\n",
            "Requirement already satisfied: scs>=1.1.6 in /usr/local/lib/python3.10/dist-packages (from cvxpy->fancyimpute) (3.2.4.post1)\n",
            "Requirement already satisfied: setuptools>65.5.1 in /usr/local/lib/python3.10/dist-packages (from cvxpy->fancyimpute) (67.7.2)\n",
            "Requirement already satisfied: iniconfig in /usr/local/lib/python3.10/dist-packages (from pytest->fancyimpute) (2.0.0)\n",
            "Requirement already satisfied: packaging in /usr/local/lib/python3.10/dist-packages (from pytest->fancyimpute) (23.2)\n",
            "Requirement already satisfied: pluggy<2.0,>=0.12 in /usr/local/lib/python3.10/dist-packages (from pytest->fancyimpute) (1.3.0)\n",
            "Requirement already satisfied: exceptiongroup>=1.0.0rc8 in /usr/local/lib/python3.10/dist-packages (from pytest->fancyimpute) (1.2.0)\n",
            "Requirement already satisfied: tomli>=1.0.0 in /usr/local/lib/python3.10/dist-packages (from pytest->fancyimpute) (2.0.1)\n",
            "Requirement already satisfied: qdldl in /usr/local/lib/python3.10/dist-packages (from osqp>=0.4.1->cvxpy->fancyimpute) (0.1.7.post0)\n"
          ]
        }
      ]
    },
    {
      "cell_type": "markdown",
      "source": [
        "# 1. Import library"
      ],
      "metadata": {
        "id": "TL96Sbo1SkqW"
      }
    },
    {
      "cell_type": "code",
      "source": [
        "#1.Import library\n",
        "import numpy as np\n",
        "import pandas as pd\n",
        "import datetime\n",
        "import matplotlib.pyplot as plt\n",
        "import networkx as nx\n",
        "from networkx.algorithms import bipartite\n",
        "import copy\n",
        "from sklearn.preprocessing import StandardScaler\n",
        "import scipy.special as special\n",
        "import scipy.sparse as sp\n",
        "import pickle\n",
        "import os\n",
        "from math import sqrt\n",
        "from numpy import concatenate\n",
        "from matplotlib import pyplot\n",
        "from pandas import read_csv\n",
        "from pandas import DataFrame\n",
        "from pandas import concat\n",
        "from sklearn.preprocessing import MinMaxScaler\n",
        "from sklearn.preprocessing import LabelEncoder\n",
        "from sklearn.metrics import mean_squared_error\n",
        "from keras.models import Sequential\n",
        "from keras.layers import Dense\n",
        "from keras.layers import LSTM\n",
        "from scipy.fftpack import fft\n",
        "import tensorflow as tf\n",
        "#import tensorflow_addons as tfa\n",
        "import keras\n",
        "from tensorflow.keras import backend as K\n",
        "from tensorflow.keras.models import Sequential\n",
        "#from tensorflow.keras.layers import Dense, GRU, Input\n",
        "from tensorflow.keras.optimizers import SGD, Adam\n",
        "from tensorflow.keras.callbacks import EarlyStopping\n",
        "from tensorflow.keras.layers import Input, Dropout, Dense, LeakyReLU, GRU, Concatenate, Reshape, Softmax, Attention\n",
        "from tensorflow.keras import activations\n",
        "from tensorflow.keras.models import Model\n",
        "#from keras.layers import LeakyReLU\n",
        "import spektral\n",
        "from spektral.layers import  GCSConv, DiffusionConv, GATConv, ARMAConv, GCNConv\n",
        "from tensorflow.keras.regularizers import l2\n",
        "#from my own library import Generate_missing and other models\n",
        "from model import * #generate_miss(data,perc),output:data after generate missing.\n",
        "import FancyImpute\n",
        "from FancyImpute import *\n",
        "import torch\n",
        "#Bidirectional LSTM\n",
        "from sklearn.metrics import mean_squared_error\n",
        "from sklearn.metrics import mean_absolute_error\n",
        "from keras.models import Sequential\n",
        "from keras.layers import Dense\n",
        "from keras.layers import LSTM\n",
        "from keras.layers import Bidirectional\n",
        "import pickle"
      ],
      "metadata": {
        "id": "g5YF-F7aSFzw"
      },
      "execution_count": 5,
      "outputs": []
    },
    {
      "cell_type": "code",
      "source": [
        "# 2. Data Pre-processing."
      ],
      "metadata": {
        "id": "E7NNQhjaSF4n"
      },
      "execution_count": 15,
      "outputs": []
    },
    {
      "cell_type": "code",
      "source": [
        "#Define hyperparameters by widgets in jupyter notebook\n",
        "import ipywidgets as widgets\n",
        "from IPython.display import display\n",
        "\n",
        "# Create widgets for each parameter\n",
        "Miss_perc_widget = widgets.FloatSlider(value=0.1,description='Miss_perc:')\n",
        "Split_perc1_widget = widgets.FloatSlider(value=0.8,  description='Split_perc1:')\n",
        "Split_perc2_widget = widgets.FloatSlider(value=0.1,  description='Split_perc2:')\n",
        "learning_rate_widget = widgets.FloatSlider(value=0.0001,  description='Learning Rate:')\n",
        "batch_size_widget = widgets.IntSlider(value=24,description='Batch Size:')\n",
        "epochs_widget = widgets.IntSlider(value=100,description='Epochs:')\n",
        "seed_widget = widgets.IntSlider(value=42, description='Seed:')\n",
        "verbose_widget = widgets.IntSlider(value=1,description='Verbose:')\n",
        "data_path_widget = widgets.Text(value='/content/DAMR/Data/Airquality/raw', description='Data Path:')\n",
        "\n",
        "# Display widgets\n",
        "display(Miss_perc_widget, Split_perc1_widget, Split_perc2_widget, learning_rate_widget, batch_size_widget,\n",
        "        epochs_widget, seed_widget, verbose_widget)\n",
        "\n",
        "# Access values using widget.value\n",
        "Miss_perc = Miss_perc_widget.value\n",
        "Split_perc1 = Split_perc1_widget.value\n",
        "Split_perc2 = Split_perc2_widget.value\n",
        "learning_rate = learning_rate_widget.value\n",
        "batch_size = batch_size_widget.value\n",
        "epochs = epochs_widget.value\n",
        "seed = seed_widget.value\n",
        "verbose = verbose_widget.value\n",
        "path = data_path_widget.value"
      ],
      "metadata": {
        "colab": {
          "base_uri": "https://localhost:8080/",
          "height": 259,
          "referenced_widgets": [
            "600adf2464904e3fa114be02e00bef77",
            "d5456608185341dcbddea6cd080a286b",
            "4f2d98b6d93c433790782e656fb78170",
            "a3ce3835639745b787c2ce0905d76cff",
            "0990f64d028640509f24fcbf58738bc2",
            "d280ada8089348ca8967a6b4f6e3fcbf",
            "405596ddc95d4e889a0598b4b075532f",
            "7600492bb0c341d29f449e01d61dc2a4",
            "7ca560b2773949738a0ba18be607b208",
            "3ea14dc676aa449e9f68efa0be6a347e",
            "01d25cba41d94e2d9457f893464aaf1d",
            "9b5db23f1bf7490e87879211818f5328",
            "cba7de7b380a44888c63205bbe00d077",
            "fa434e31c19c480dbbb469b0eea47bb3",
            "7a2f335ecd264edca9af3b8a1b3007fb",
            "bf6e518bbdd043db8e70e258a90f942e",
            "cc525fab35ac485288c368d5480710a1",
            "2df267525f9f4dd2aeaaf3574ec6a68c",
            "b2f684324c934212b4ef56d4613d03b4",
            "1652e424e6f244d58853f8a091323db4",
            "1edb28c73a21420ea09cc00262e7c66c",
            "e637975f15694f50a70b1fc6e60a48a2",
            "84a341e57f6a4001a6ea8579a7bf6b26",
            "0ce00ba24d7245b2af688225bc7332cf"
          ]
        },
        "id": "ilgHAyWXbtou",
        "outputId": "c2e3707f-17c8-40d3-dd54-aca51bb629ab"
      },
      "execution_count": 17,
      "outputs": [
        {
          "output_type": "display_data",
          "data": {
            "text/plain": [
              "FloatSlider(value=0.1, description='Miss_perc:')"
            ],
            "application/vnd.jupyter.widget-view+json": {
              "version_major": 2,
              "version_minor": 0,
              "model_id": "600adf2464904e3fa114be02e00bef77"
            }
          },
          "metadata": {}
        },
        {
          "output_type": "display_data",
          "data": {
            "text/plain": [
              "FloatSlider(value=0.8, description='Split_perc1:')"
            ],
            "application/vnd.jupyter.widget-view+json": {
              "version_major": 2,
              "version_minor": 0,
              "model_id": "a3ce3835639745b787c2ce0905d76cff"
            }
          },
          "metadata": {}
        },
        {
          "output_type": "display_data",
          "data": {
            "text/plain": [
              "FloatSlider(value=0.1, description='Split_perc2:')"
            ],
            "application/vnd.jupyter.widget-view+json": {
              "version_major": 2,
              "version_minor": 0,
              "model_id": "405596ddc95d4e889a0598b4b075532f"
            }
          },
          "metadata": {}
        },
        {
          "output_type": "display_data",
          "data": {
            "text/plain": [
              "FloatSlider(value=0.0001, description='Learning Rate:')"
            ],
            "application/vnd.jupyter.widget-view+json": {
              "version_major": 2,
              "version_minor": 0,
              "model_id": "3ea14dc676aa449e9f68efa0be6a347e"
            }
          },
          "metadata": {}
        },
        {
          "output_type": "display_data",
          "data": {
            "text/plain": [
              "IntSlider(value=24, description='Batch Size:')"
            ],
            "application/vnd.jupyter.widget-view+json": {
              "version_major": 2,
              "version_minor": 0,
              "model_id": "cba7de7b380a44888c63205bbe00d077"
            }
          },
          "metadata": {}
        },
        {
          "output_type": "display_data",
          "data": {
            "text/plain": [
              "IntSlider(value=100, description='Epochs:')"
            ],
            "application/vnd.jupyter.widget-view+json": {
              "version_major": 2,
              "version_minor": 0,
              "model_id": "bf6e518bbdd043db8e70e258a90f942e"
            }
          },
          "metadata": {}
        },
        {
          "output_type": "display_data",
          "data": {
            "text/plain": [
              "IntSlider(value=42, description='Seed:')"
            ],
            "application/vnd.jupyter.widget-view+json": {
              "version_major": 2,
              "version_minor": 0,
              "model_id": "b2f684324c934212b4ef56d4613d03b4"
            }
          },
          "metadata": {}
        },
        {
          "output_type": "display_data",
          "data": {
            "text/plain": [
              "IntSlider(value=1, description='Verbose:')"
            ],
            "application/vnd.jupyter.widget-view+json": {
              "version_major": 2,
              "version_minor": 0,
              "model_id": "e637975f15694f50a70b1fc6e60a48a2"
            }
          },
          "metadata": {}
        }
      ]
    },
    {
      "cell_type": "code",
      "source": [
        "data=Csv2Tensor(path)\n",
        "data=data[:,:,:]\n",
        "print(data.shape)\n",
        "#Generate Missing 3D.\n",
        "COVID_features=data\n",
        "COVID_features=MinMax3D(COVID_features)#(503,3,7)\n",
        "COVID_features_train=COVID_features[:int(Split_perc1*COVID_features.shape[0]),:,:]\n",
        "print(COVID_features_train.shape)#(402, 3, 7)\n",
        "COVID_features_val=COVID_features[int(Split_perc1*COVID_features.shape[0]):int(Split_perc1*COVID_features.shape[0])+int(Split_perc2*COVID_features.shape[0]),:,:]\n",
        "print(COVID_features_val.shape)#(50, 3, 7)\n",
        "COVID_features_test=COVID_features[int(Split_perc1*COVID_features.shape[0])+int(Split_perc2*COVID_features.shape[0]):,:,:]\n",
        "print(COVID_features_test.shape)#(51, 3, 7)\n",
        "\n",
        "#The mask and missing data has been created with a given miss percentage.\n",
        "#It will be used for baseline and for DAMR\n",
        "COVID_features_train_miss,COVID_features_train_mask=generate_miss_3D(COVID_features_train,Miss_perc)\n",
        "COVID_features_val_miss,COVID_features_val_mask=generate_miss_3D(COVID_features_val,Miss_perc)\n",
        "COVID_features_test_miss,COVID_features_test_mask=generate_miss_3D(COVID_features_test,Miss_perc)\n",
        "COVID_features_miss,COVID_features_mask=generate_miss_3D(COVID_features,Miss_perc)"
      ],
      "metadata": {
        "colab": {
          "base_uri": "https://localhost:8080/"
        },
        "id": "qKZ1BuO0SF-m",
        "outputId": "b117e205-7db5-4c0d-c0c2-27e7dbcf35ec"
      },
      "execution_count": 14,
      "outputs": [
        {
          "output_type": "stream",
          "name": "stdout",
          "text": [
            "()\n",
            "()\n",
            "()\n",
            "()\n",
            "()\n",
            "()\n",
            "()\n",
            "(503, 3, 7)\n",
            "(402, 3, 7)\n",
            "(50, 3, 7)\n",
            "(51, 3, 7)\n"
          ]
        }
      ]
    },
    {
      "cell_type": "code",
      "source": [
        "a=[[0,\"inf\",1],[1,\"inf\",0]]\n",
        "a=np.array(a)\n",
        "print(np.array(a).shape[0])\n",
        "for i in range(np.array(a).shape[0]):\n",
        "    for j in range(np.array(a).shape[1]):\n",
        "        if a[i,j]==\"inf\":\n",
        "            a[i,j]=np.nan\n",
        "print(a)"
      ],
      "metadata": {
        "colab": {
          "base_uri": "https://localhost:8080/"
        },
        "id": "SeFa_Q5wUkOn",
        "outputId": "ad089948-c7e3-4f99-94fd-3b1836c38027"
      },
      "execution_count": 20,
      "outputs": [
        {
          "output_type": "stream",
          "name": "stdout",
          "text": [
            "2\n",
            "[['0' 'nan' '1']\n",
            " ['1' 'nan' '0']]\n"
          ]
        }
      ]
    },
    {
      "cell_type": "code",
      "source": [
        "#Run baseline of MEAN\n",
        "MEAN_RMSE,MEAN_MAE,MEAN_MAPE,MEAN_MRE=MEAN_impute_3D(COVID_features_test_miss,COVID_features_test,COVID_features_test_mask)\n",
        "print(\"MEAN_RMSE\",MEAN_RMSE,\"MEAN_MAE\",MEAN_MAE,\"MEAN_MAPE\",MEAN_MAPE,\"MEAN_MRE\",MEAN_MRE)\n",
        "\n",
        "#Run baseline(KNN,MICE,MF,MEAN,SLIDING)#Return:RMSE,MAE,MAPE,MRE\n",
        "#For the model of FancyImpute,we just need to test.\n",
        "\n",
        "KNN_RMSE,KNN_MAE,KNN_MAPE,KNN_MRE=KNN_impute_3D(COVID_features_test_miss,COVID_features_test,COVID_features_test_mask)\n",
        "MICE_RMSE,MICE_MAE,MICE_MAPE,MICE_MRE=MICE_impute_3D(COVID_features_test_miss,COVID_features_test,COVID_features_test_mask)\n",
        "#MF_RMSE,MF_MAE,MF_MAPE,MF_MRE=MF_impute_3D(COVID_features_test_miss,COVID_features_test,COVID_features_test_mask)\n",
        "MEAN_RMSE,MEAN_MAE,MEAN_MAPE,MEAN_MRE=MEAN_impute_3D(COVID_features_test_miss,COVID_features_test,COVID_features_test_mask)\n",
        "Sliding_RMSE,Sliding_MAE,Sliding_MAPE,Sliding_MRE,Sliding_out=Sliding_impute_3D(COVID_features_test_miss,COVID_features_test,COVID_features_test_mask,40)\n",
        "print(\"KNN_RMSE\",KNN_RMSE,\"KNN_MAE\",KNN_MAE,\"KNN_MAPE\",KNN_MAPE,\"KNN_MRE\",KNN_MRE)\n",
        "print(\"MICE_RMSE\",MICE_RMSE,\"MICE_MAE\",MICE_MAE,\"MICE_MAPE\",MICE_MAPE,\"MICE_MRE\",MICE_MRE)\n",
        "#print(\"MF_RMSE\",MF_RMSE,\"MF_MAE\",MF_MAE,\"MF_MAPE\",MF_MAPE,\"MF_MRE\",MF_MRE)\n",
        "print(\"MEAN_RMSE\",MEAN_RMSE,\"MEAN_MAE\",MEAN_MAE,\"MEAN_MAPE\",MEAN_MAPE,\"MEAN_MRE\",MEAN_MRE)\n",
        "print(\"Sliding_RMSE\",Sliding_RMSE,\"Sliding_MAE\",Sliding_MAE,\"Sliding_MAPE\",Sliding_MAPE,\"Sliding_MRE\",Sliding_MRE)"
      ],
      "metadata": {
        "colab": {
          "base_uri": "https://localhost:8080/"
        },
        "id": "ovgvls5HUonu",
        "outputId": "d6e9195f-4cba-4902-b15b-cd510cebccc9"
      },
      "execution_count": 27,
      "outputs": [
        {
          "output_type": "stream",
          "name": "stdout",
          "text": [
            "MEAN_RMSE 0.20723746404543353 MEAN_MAE 0.1418540127268051 MEAN_MAPE 0.3841831646744543 MEAN_MRE 0.21125705156044017\n",
            "Imputing row 1/731 with 0 missing, elapsed time: 0.289\n",
            "Imputing row 101/731 with 1 missing, elapsed time: 0.307\n",
            "Imputing row 201/731 with 0 missing, elapsed time: 0.309\n",
            "Imputing row 301/731 with 0 missing, elapsed time: 0.326\n",
            "Imputing row 401/731 with 1 missing, elapsed time: 0.328\n",
            "Imputing row 501/731 with 1 missing, elapsed time: 0.333\n",
            "Imputing row 601/731 with 0 missing, elapsed time: 0.342\n",
            "Imputing row 701/731 with 0 missing, elapsed time: 0.344\n",
            "Imputing row 1/731 with 1 missing, elapsed time: 0.254\n",
            "Imputing row 101/731 with 1 missing, elapsed time: 0.265\n",
            "Imputing row 201/731 with 1 missing, elapsed time: 0.269\n",
            "Imputing row 301/731 with 1 missing, elapsed time: 0.276\n",
            "Imputing row 401/731 with 0 missing, elapsed time: 0.280\n",
            "Imputing row 501/731 with 1 missing, elapsed time: 0.282\n",
            "Imputing row 601/731 with 0 missing, elapsed time: 0.285\n",
            "Imputing row 701/731 with 2 missing, elapsed time: 0.288\n",
            "Imputing row 1/731 with 0 missing, elapsed time: 0.189\n",
            "Imputing row 101/731 with 0 missing, elapsed time: 0.199\n",
            "Imputing row 201/731 with 0 missing, elapsed time: 0.202\n",
            "Imputing row 301/731 with 0 missing, elapsed time: 0.212\n",
            "Imputing row 401/731 with 1 missing, elapsed time: 0.218\n",
            "Imputing row 501/731 with 0 missing, elapsed time: 0.226\n",
            "Imputing row 601/731 with 1 missing, elapsed time: 0.234\n",
            "Imputing row 701/731 with 0 missing, elapsed time: 0.237\n",
            "Imputing row 1/731 with 0 missing, elapsed time: 0.192\n",
            "Imputing row 101/731 with 0 missing, elapsed time: 0.205\n",
            "Imputing row 201/731 with 0 missing, elapsed time: 0.209\n",
            "Imputing row 301/731 with 0 missing, elapsed time: 0.215\n",
            "Imputing row 401/731 with 1 missing, elapsed time: 0.221\n",
            "Imputing row 501/731 with 1 missing, elapsed time: 0.225\n",
            "Imputing row 601/731 with 0 missing, elapsed time: 0.229\n",
            "Imputing row 701/731 with 0 missing, elapsed time: 0.232\n",
            "Imputing row 1/731 with 2 missing, elapsed time: 0.239\n",
            "Imputing row 101/731 with 0 missing, elapsed time: 0.242\n",
            "Imputing row 201/731 with 0 missing, elapsed time: 0.251\n",
            "Imputing row 301/731 with 1 missing, elapsed time: 0.254\n",
            "Imputing row 401/731 with 1 missing, elapsed time: 0.256\n",
            "Imputing row 501/731 with 0 missing, elapsed time: 0.257\n",
            "Imputing row 601/731 with 0 missing, elapsed time: 0.273\n",
            "Imputing row 701/731 with 0 missing, elapsed time: 0.276\n",
            "Imputing row 1/731 with 0 missing, elapsed time: 0.143\n",
            "Imputing row 101/731 with 1 missing, elapsed time: 0.146\n",
            "Imputing row 201/731 with 0 missing, elapsed time: 0.149\n",
            "Imputing row 301/731 with 0 missing, elapsed time: 0.154\n",
            "Imputing row 401/731 with 0 missing, elapsed time: 0.157\n",
            "Imputing row 501/731 with 0 missing, elapsed time: 0.159\n",
            "Imputing row 601/731 with 0 missing, elapsed time: 0.162\n",
            "Imputing row 701/731 with 1 missing, elapsed time: 0.164\n",
            "Imputing row 1/731 with 1 missing, elapsed time: 0.171\n",
            "Imputing row 101/731 with 0 missing, elapsed time: 0.174\n",
            "Imputing row 201/731 with 2 missing, elapsed time: 0.177\n",
            "Imputing row 301/731 with 1 missing, elapsed time: 0.180\n",
            "Imputing row 401/731 with 0 missing, elapsed time: 0.182\n",
            "Imputing row 501/731 with 0 missing, elapsed time: 0.185\n",
            "Imputing row 601/731 with 0 missing, elapsed time: 0.187\n",
            "Imputing row 701/731 with 2 missing, elapsed time: 0.190\n",
            "Imputing row 1/731 with 1 missing, elapsed time: 0.155\n",
            "Imputing row 101/731 with 3 missing, elapsed time: 0.158\n",
            "Imputing row 201/731 with 0 missing, elapsed time: 0.166\n",
            "Imputing row 301/731 with 1 missing, elapsed time: 0.169\n",
            "Imputing row 401/731 with 0 missing, elapsed time: 0.176\n",
            "Imputing row 501/731 with 0 missing, elapsed time: 0.178\n",
            "Imputing row 601/731 with 4 missing, elapsed time: 0.188\n",
            "Imputing row 701/731 with 1 missing, elapsed time: 0.191\n",
            "Imputing row 1/731 with 1 missing, elapsed time: 0.145\n",
            "Imputing row 101/731 with 0 missing, elapsed time: 0.148\n",
            "Imputing row 201/731 with 1 missing, elapsed time: 0.152\n",
            "Imputing row 301/731 with 0 missing, elapsed time: 0.155\n",
            "Imputing row 401/731 with 2 missing, elapsed time: 0.157\n",
            "Imputing row 501/731 with 1 missing, elapsed time: 0.163\n",
            "Imputing row 601/731 with 0 missing, elapsed time: 0.166\n",
            "Imputing row 701/731 with 0 missing, elapsed time: 0.168\n",
            "Imputing row 1/731 with 0 missing, elapsed time: 0.157\n",
            "Imputing row 101/731 with 1 missing, elapsed time: 0.160\n",
            "Imputing row 201/731 with 0 missing, elapsed time: 0.163\n",
            "Imputing row 301/731 with 2 missing, elapsed time: 0.167\n",
            "Imputing row 401/731 with 1 missing, elapsed time: 0.169\n",
            "Imputing row 501/731 with 2 missing, elapsed time: 0.171\n",
            "Imputing row 601/731 with 2 missing, elapsed time: 0.174\n",
            "Imputing row 701/731 with 3 missing, elapsed time: 0.176\n"
          ]
        },
        {
          "output_type": "stream",
          "name": "stderr",
          "text": [
            "/usr/local/lib/python3.10/dist-packages/sklearn/impute/_iterative.py:785: ConvergenceWarning: [IterativeImputer] Early stopping criterion not reached.\n",
            "  warnings.warn(\n",
            "/usr/local/lib/python3.10/dist-packages/sklearn/impute/_iterative.py:785: ConvergenceWarning: [IterativeImputer] Early stopping criterion not reached.\n",
            "  warnings.warn(\n",
            "/usr/local/lib/python3.10/dist-packages/sklearn/impute/_iterative.py:785: ConvergenceWarning: [IterativeImputer] Early stopping criterion not reached.\n",
            "  warnings.warn(\n",
            "/usr/local/lib/python3.10/dist-packages/sklearn/impute/_iterative.py:785: ConvergenceWarning: [IterativeImputer] Early stopping criterion not reached.\n",
            "  warnings.warn(\n",
            "/usr/local/lib/python3.10/dist-packages/sklearn/impute/_iterative.py:785: ConvergenceWarning: [IterativeImputer] Early stopping criterion not reached.\n",
            "  warnings.warn(\n",
            "/usr/local/lib/python3.10/dist-packages/sklearn/impute/_iterative.py:785: ConvergenceWarning: [IterativeImputer] Early stopping criterion not reached.\n",
            "  warnings.warn(\n",
            "/usr/local/lib/python3.10/dist-packages/sklearn/impute/_iterative.py:785: ConvergenceWarning: [IterativeImputer] Early stopping criterion not reached.\n",
            "  warnings.warn(\n",
            "/content/DAMR/FancyImpute.py:170: RuntimeWarning: divide by zero encountered in divide\n",
            "  Sliding_mape= abs((np.array(Data_true)[missing_mask]-np.array(Data_Sliding)[missing_mask])/np.array(Data_true)[missing_mask]).mean()\n",
            "/content/DAMR/FancyImpute.py:170: RuntimeWarning: divide by zero encountered in divide\n",
            "  Sliding_mape= abs((np.array(Data_true)[missing_mask]-np.array(Data_Sliding)[missing_mask])/np.array(Data_true)[missing_mask]).mean()\n"
          ]
        },
        {
          "output_type": "stream",
          "name": "stdout",
          "text": [
            "KNN_RMSE 0.14011655638035272 KNN_MAE 0.08657806714759345 KNN_MAPE 0.21532546036872552 KNN_MRE 0.12893697431476486\n",
            "MICE_RMSE 0.13172267745435567 MICE_MAE 0.08829627053233502 MICE_MAPE 0.21508108467128295 MICE_MRE 0.13149582037110266\n",
            "MEAN_RMSE 0.20723746404543353 MEAN_MAE 0.1418540127268051 MEAN_MAPE 0.3841831646744543 MEAN_MRE 0.21125705156044017\n",
            "Sliding_RMSE 0.24878518408284855 Sliding_MAE 0.17299590009614468 Sliding_MAPE inf Sliding_MRE 0.2999111383736634\n"
          ]
        }
      ]
    },
    {
      "cell_type": "code",
      "source": [
        "#Create lags for the first variable.\n",
        "#Extract the first variable\n",
        "lags=30\n",
        "var=0\n",
        "Sliding_RMSE,Sliding_MAE,Sliding_MAPE,Sliding_MRE,Sliding_out=Sliding_impute_3D(COVID_features_miss,COVID_features,COVID_features_mask,6)\n",
        "Sliding_out_var1=Sliding_out[:,var,:]\n",
        "Sliding_out_var1_sup=series_to_supervised(Sliding_out_var1,lags,1)\n",
        "Sliding_out_var1_sup=Sliding_out_var1_sup.iloc[:,:lags*Sliding_out.shape[2]]\n",
        "print(Sliding_out_var1_sup.shape)\n",
        "#Input1: 473*7*30\n",
        "COVID_X1_all_aftslid=np.array(Sliding_out_var1_sup).reshape(len(Sliding_out_var1_sup),COVID_features.shape[2],lags)\n",
        "#Input2: 473*3*7\n",
        "COVID_features_aftslid=Sliding_out[30:,:,:]\n",
        "#Input3: Adj: 473*7*7(Initialization)\n",
        "Adj_all = np.arange(len(COVID_features_aftslid)*COVID_features_aftslid.shape[2]*COVID_features_aftslid.shape[2]).reshape(len(COVID_features_aftslid),COVID_features_aftslid.shape[2],COVID_features_aftslid.shape[2])#(473,7,7)\n",
        "#Output:Groundtruth of the first variable->\n",
        "COVID_Y1_all=COVID_features[30:,:,:]\n",
        "COVID_Y1_all=COVID_Y1_all[:,var,:]\n",
        "COVID_Y1_all=COVID_Y1_all.reshape(COVID_Y1_all.shape[0],COVID_Y1_all.shape[1],1)\n",
        "#\n",
        "print(COVID_X1_all_aftslid.shape,COVID_features_aftslid.shape,Adj_all.shape,COVID_Y1_all.shape)"
      ],
      "metadata": {
        "colab": {
          "base_uri": "https://localhost:8080/"
        },
        "id": "64w1RJhVVQ2m",
        "outputId": "5e9fd64f-56e6-4b03-d24b-15dfaa30f2b9"
      },
      "execution_count": 28,
      "outputs": [
        {
          "output_type": "stream",
          "name": "stderr",
          "text": [
            "/content/DAMR/FancyImpute.py:170: RuntimeWarning: divide by zero encountered in divide\n",
            "  Sliding_mape= abs((np.array(Data_true)[missing_mask]-np.array(Data_Sliding)[missing_mask])/np.array(Data_true)[missing_mask]).mean()\n",
            "/content/DAMR/FancyImpute.py:170: RuntimeWarning: divide by zero encountered in divide\n",
            "  Sliding_mape= abs((np.array(Data_true)[missing_mask]-np.array(Data_Sliding)[missing_mask])/np.array(Data_true)[missing_mask]).mean()\n",
            "/content/DAMR/FancyImpute.py:170: RuntimeWarning: divide by zero encountered in divide\n",
            "  Sliding_mape= abs((np.array(Data_true)[missing_mask]-np.array(Data_Sliding)[missing_mask])/np.array(Data_true)[missing_mask]).mean()\n",
            "/content/DAMR/FancyImpute.py:170: RuntimeWarning: divide by zero encountered in divide\n",
            "  Sliding_mape= abs((np.array(Data_true)[missing_mask]-np.array(Data_Sliding)[missing_mask])/np.array(Data_true)[missing_mask]).mean()\n",
            "/content/DAMR/FancyImpute.py:170: RuntimeWarning: divide by zero encountered in divide\n",
            "  Sliding_mape= abs((np.array(Data_true)[missing_mask]-np.array(Data_Sliding)[missing_mask])/np.array(Data_true)[missing_mask]).mean()\n"
          ]
        },
        {
          "output_type": "stream",
          "name": "stdout",
          "text": [
            "(7266, 300)\n",
            "(7266, 10, 30) (7266, 6, 10) (7266, 10, 10) (7266, 10, 1)\n"
          ]
        },
        {
          "output_type": "stream",
          "name": "stderr",
          "text": [
            "/content/DAMR/FancyImpute.py:170: RuntimeWarning: divide by zero encountered in divide\n",
            "  Sliding_mape= abs((np.array(Data_true)[missing_mask]-np.array(Data_Sliding)[missing_mask])/np.array(Data_true)[missing_mask]).mean()\n"
          ]
        }
      ]
    },
    {
      "cell_type": "markdown",
      "source": [
        "#3. Dynamic Adjacency matrix layer"
      ],
      "metadata": {
        "id": "FByiAUz-Vxy-"
      }
    },
    {
      "cell_type": "code",
      "source": [
        "#3.1 Distance-based adjacency matrix\n",
        "#Lat and long of the specific dataset.\n",
        "COVID_lat=pd.DataFrame([40.00395,39.914409,39.982053,39.954047,\n",
        "39.878193,39.855958,39.939554,39.794491,39.885241,39.886491])\n",
        "COVID_long=pd.DataFrame([116.20531,116.184239,116.3974,116.348991\n",
        ",116.351974,116.36781,116.483746,116.506319,116.664162,116.407355])\n",
        "#Adj_dist=adj_dist(COVID_lat,COVID_long)#10*10\n",
        "#3.1 Distance-based adjacency matrix\n",
        "#places:7 stations all over the world.\n",
        "#COVID_lat=pd.DataFrame([-14.235,-35.6751,20.5937,32.4279,23.6345,-9.19,30.5595])\n",
        "#COVID_long=pd.DataFrame([-51.9253,-71.543,78.9629,53.688,-102.5528,-75.0152,22.9375])\n",
        "Adj_dist=adj_dist(COVID_lat,COVID_long)#7*7\n",
        "Adj_dist.shape"
      ],
      "metadata": {
        "colab": {
          "base_uri": "https://localhost:8080/"
        },
        "id": "CgqLR_njV6_2",
        "outputId": "f16ad905-ab34-48de-f06c-e2e06b41c985"
      },
      "execution_count": 29,
      "outputs": [
        {
          "output_type": "execute_result",
          "data": {
            "text/plain": [
              "(10, 10)"
            ]
          },
          "metadata": {},
          "execution_count": 29
        }
      ]
    },
    {
      "cell_type": "code",
      "source": [
        "#3.2 Mean MI-based adjacency matrix\n",
        "print(COVID_features_aftslid.shape)\n",
        "MeanMI=[]\n",
        "for i in range(COVID_features_aftslid.shape[2]):\n",
        "    for j in range(COVID_features_aftslid.shape[2]):\n",
        "        MeanMI.append(Global_MeanMI(COVID_features_aftslid[:,:,i],\n",
        "                                    COVID_features_aftslid[:,:,j],2))\n",
        "print(np.array(MeanMI).shape)\n",
        "MeanMI=np.array(MeanMI).reshape(COVID_features_aftslid.shape[2],COVID_features_aftslid.shape[2])\n",
        "print(MeanMI.shape)\n",
        "scaler = MinMaxScaler(feature_range=(0, 1))\n",
        "scaled1 = scaler.fit_transform(MeanMI)\n",
        "MeanMI=scaled1#shape:7*7"
      ],
      "metadata": {
        "colab": {
          "base_uri": "https://localhost:8080/"
        },
        "id": "ZkW1vKmIWHpe",
        "outputId": "d24753c5-2c86-4eca-92a9-f954283c895d"
      },
      "execution_count": 31,
      "outputs": [
        {
          "output_type": "stream",
          "name": "stdout",
          "text": [
            "(7266, 6, 10)\n",
            "(100,)\n",
            "(10, 10)\n"
          ]
        }
      ]
    },
    {
      "cell_type": "code",
      "source": [
        "#3.3 CONCAT MI-based adjacency matrix\n",
        "print(COVID_features_aftslid.shape)\n",
        "ConcatMI=[]\n",
        "for i in range(COVID_features_aftslid.shape[2]):\n",
        "    for j in range(COVID_features_aftslid.shape[2]):\n",
        "        ConcatMI.append(Global_MeanMI(COVID_features_aftslid[:,:,i],\n",
        "                                    COVID_features_aftslid[:,:,j],2))\n",
        "ConcatMI=np.array(ConcatMI).reshape(COVID_features_aftslid.shape[2],COVID_features_aftslid.shape[2])\n",
        "scaler = MinMaxScaler(feature_range=(0, 1))\n",
        "scaled1 = scaler.fit_transform(ConcatMI)\n",
        "ConcatMI=scaled1#shape:7*7"
      ],
      "metadata": {
        "colab": {
          "base_uri": "https://localhost:8080/"
        },
        "id": "ueFVw7ylWKCO",
        "outputId": "90455844-bc72-4321-aa3b-027daed96739"
      },
      "execution_count": 32,
      "outputs": [
        {
          "output_type": "stream",
          "name": "stdout",
          "text": [
            "(7266, 6, 10)\n"
          ]
        }
      ]
    },
    {
      "cell_type": "code",
      "source": [
        "#3.4 Single Feature MI-based adjacency matrix\n",
        "COVID_features_aftslid.shape\n",
        "FeatureMI=[]\n",
        "for i in range(COVID_features_aftslid.shape[2]):\n",
        "    for j in range(COVID_features_aftslid.shape[2]):\n",
        "        FeatureMI.append(Global_EachMI(COVID_features_aftslid[:,:,i],\n",
        "                                    COVID_features_aftslid[:,:,j],2))\n",
        "#For the first feature,if choose the second feature, modify here!!\n",
        "FeatureMI=np.array(FeatureMI)[:,2]\n",
        "FeatureMI=np.array(FeatureMI).reshape(COVID_features_aftslid.shape[2],COVID_features_aftslid.shape[2])\n",
        "scaler = MinMaxScaler(feature_range=(0, 1))\n",
        "scaled1 = scaler.fit_transform(FeatureMI)\n",
        "FeatureMI=scaled1#shape:7*7\n",
        "#MeanMI,ConcatMI,FeatureMI"
      ],
      "metadata": {
        "id": "9DCKfIy3WSbN"
      },
      "execution_count": 33,
      "outputs": []
    },
    {
      "cell_type": "code",
      "source": [
        "#3.5 Mean MI-based dynamic adjacency matrix\n",
        "print(COVID_features_aftslid.shape)\n",
        "#Index all of the rows and columns\n",
        "DyMeanMI=[]\n",
        "for k in range(COVID_features_aftslid.shape[0]):\n",
        "    for i in range(COVID_features_aftslid.shape[2]):\n",
        "        for j in range(COVID_features_aftslid.shape[2]):\n",
        "            DyMeanMI.append(Global_MeanMI(COVID_features_aftslid[:k,:,i],\n",
        "                                    COVID_features_aftslid[:k,:,j],2))\n",
        "DyMeanMI=np.array(DyMeanMI).reshape(COVID_features_aftslid.shape[2],COVID_features_aftslid.shape[2],COVID_features_aftslid.shape[0])\n",
        "DyMeanMI=DyMeanMI.transpose(2, 0, 1)\n",
        "from fancyimpute import SimpleFill, NuclearNormMinimization, SoftImpute, BiScaler\n",
        "for i in range(DyMeanMI.shape[0]):\n",
        "    MEAN_imputer = SimpleFill()\n",
        "    DyMeanMI[i,:,:]=MEAN_imputer.fit_transform(DyMeanMI[i,:,:])\n",
        "print(DyMeanMI)#Here DyMeanMI is done"
      ],
      "metadata": {
        "colab": {
          "base_uri": "https://localhost:8080/",
          "height": 444
        },
        "id": "XZ3qTjRMWU6e",
        "outputId": "444c56a1-2642-4d86-ca55-42deb1ce9922"
      },
      "execution_count": 34,
      "outputs": [
        {
          "output_type": "stream",
          "name": "stdout",
          "text": [
            "(7266, 6, 10)\n"
          ]
        },
        {
          "output_type": "stream",
          "name": "stderr",
          "text": [
            "/content/DAMR/model.py:67: RuntimeWarning: invalid value encountered in divide\n",
            "  c_normalized = c / float(np.sum(c))\n"
          ]
        },
        {
          "output_type": "error",
          "ename": "KeyboardInterrupt",
          "evalue": "",
          "traceback": [
            "\u001b[0;31m---------------------------------------------------------------------------\u001b[0m",
            "\u001b[0;31mKeyboardInterrupt\u001b[0m                         Traceback (most recent call last)",
            "\u001b[0;32m<ipython-input-34-62433b9bf770>\u001b[0m in \u001b[0;36m<cell line: 5>\u001b[0;34m()\u001b[0m\n\u001b[1;32m      6\u001b[0m     \u001b[0;32mfor\u001b[0m \u001b[0mi\u001b[0m \u001b[0;32min\u001b[0m \u001b[0mrange\u001b[0m\u001b[0;34m(\u001b[0m\u001b[0mCOVID_features_aftslid\u001b[0m\u001b[0;34m.\u001b[0m\u001b[0mshape\u001b[0m\u001b[0;34m[\u001b[0m\u001b[0;36m2\u001b[0m\u001b[0;34m]\u001b[0m\u001b[0;34m)\u001b[0m\u001b[0;34m:\u001b[0m\u001b[0;34m\u001b[0m\u001b[0;34m\u001b[0m\u001b[0m\n\u001b[1;32m      7\u001b[0m         \u001b[0;32mfor\u001b[0m \u001b[0mj\u001b[0m \u001b[0;32min\u001b[0m \u001b[0mrange\u001b[0m\u001b[0;34m(\u001b[0m\u001b[0mCOVID_features_aftslid\u001b[0m\u001b[0;34m.\u001b[0m\u001b[0mshape\u001b[0m\u001b[0;34m[\u001b[0m\u001b[0;36m2\u001b[0m\u001b[0;34m]\u001b[0m\u001b[0;34m)\u001b[0m\u001b[0;34m:\u001b[0m\u001b[0;34m\u001b[0m\u001b[0;34m\u001b[0m\u001b[0m\n\u001b[0;32m----> 8\u001b[0;31m             DyMeanMI.append(Global_MeanMI(COVID_features_aftslid[:k,:,i],\n\u001b[0m\u001b[1;32m      9\u001b[0m                                     COVID_features_aftslid[:k,:,j],2))\n\u001b[1;32m     10\u001b[0m \u001b[0mDyMeanMI\u001b[0m\u001b[0;34m=\u001b[0m\u001b[0mnp\u001b[0m\u001b[0;34m.\u001b[0m\u001b[0marray\u001b[0m\u001b[0;34m(\u001b[0m\u001b[0mDyMeanMI\u001b[0m\u001b[0;34m)\u001b[0m\u001b[0;34m.\u001b[0m\u001b[0mreshape\u001b[0m\u001b[0;34m(\u001b[0m\u001b[0mCOVID_features_aftslid\u001b[0m\u001b[0;34m.\u001b[0m\u001b[0mshape\u001b[0m\u001b[0;34m[\u001b[0m\u001b[0;36m2\u001b[0m\u001b[0;34m]\u001b[0m\u001b[0;34m,\u001b[0m\u001b[0mCOVID_features_aftslid\u001b[0m\u001b[0;34m.\u001b[0m\u001b[0mshape\u001b[0m\u001b[0;34m[\u001b[0m\u001b[0;36m2\u001b[0m\u001b[0;34m]\u001b[0m\u001b[0;34m,\u001b[0m\u001b[0mCOVID_features_aftslid\u001b[0m\u001b[0;34m.\u001b[0m\u001b[0mshape\u001b[0m\u001b[0;34m[\u001b[0m\u001b[0;36m0\u001b[0m\u001b[0;34m]\u001b[0m\u001b[0;34m)\u001b[0m\u001b[0;34m\u001b[0m\u001b[0;34m\u001b[0m\u001b[0m\n",
            "\u001b[0;32m/content/DAMR/model.py\u001b[0m in \u001b[0;36mGlobal_MeanMI\u001b[0;34m(data1, data2, bins)\u001b[0m\n\u001b[1;32m    132\u001b[0m     \u001b[0mMean_MI\u001b[0m\u001b[0;34m=\u001b[0m\u001b[0;34m[\u001b[0m\u001b[0;34m]\u001b[0m\u001b[0;34m\u001b[0m\u001b[0;34m\u001b[0m\u001b[0m\n\u001b[1;32m    133\u001b[0m     \u001b[0;32mfor\u001b[0m \u001b[0mi\u001b[0m \u001b[0;32min\u001b[0m \u001b[0mrange\u001b[0m\u001b[0;34m(\u001b[0m\u001b[0mdata1\u001b[0m\u001b[0;34m.\u001b[0m\u001b[0mshape\u001b[0m\u001b[0;34m[\u001b[0m\u001b[0;36m1\u001b[0m\u001b[0;34m]\u001b[0m\u001b[0;34m)\u001b[0m\u001b[0;34m:\u001b[0m\u001b[0;34m\u001b[0m\u001b[0;34m\u001b[0m\u001b[0m\n\u001b[0;32m--> 134\u001b[0;31m         \u001b[0mMean_MI\u001b[0m\u001b[0;34m.\u001b[0m\u001b[0mappend\u001b[0m\u001b[0;34m(\u001b[0m\u001b[0mcalc_MI\u001b[0m\u001b[0;34m(\u001b[0m\u001b[0mdata1\u001b[0m\u001b[0;34m.\u001b[0m\u001b[0miloc\u001b[0m\u001b[0;34m[\u001b[0m\u001b[0;34m:\u001b[0m\u001b[0;34m,\u001b[0m\u001b[0mi\u001b[0m\u001b[0;34m]\u001b[0m\u001b[0;34m,\u001b[0m\u001b[0mdata2\u001b[0m\u001b[0;34m.\u001b[0m\u001b[0miloc\u001b[0m\u001b[0;34m[\u001b[0m\u001b[0;34m:\u001b[0m\u001b[0;34m,\u001b[0m\u001b[0mi\u001b[0m\u001b[0;34m]\u001b[0m\u001b[0;34m,\u001b[0m\u001b[0mbins\u001b[0m\u001b[0;34m)\u001b[0m\u001b[0;34m)\u001b[0m\u001b[0;34m\u001b[0m\u001b[0;34m\u001b[0m\u001b[0m\n\u001b[0m\u001b[1;32m    135\u001b[0m     \u001b[0mMean_MI\u001b[0m\u001b[0;34m=\u001b[0m\u001b[0mnp\u001b[0m\u001b[0;34m.\u001b[0m\u001b[0mmean\u001b[0m\u001b[0;34m(\u001b[0m\u001b[0mMean_MI\u001b[0m\u001b[0;34m)\u001b[0m\u001b[0;34m\u001b[0m\u001b[0;34m\u001b[0m\u001b[0m\n\u001b[1;32m    136\u001b[0m     \u001b[0;32mreturn\u001b[0m \u001b[0mMean_MI\u001b[0m\u001b[0;34m\u001b[0m\u001b[0;34m\u001b[0m\u001b[0m\n",
            "\u001b[0;32m/content/DAMR/model.py\u001b[0m in \u001b[0;36mcalc_MI\u001b[0;34m(X, Y, bins)\u001b[0m\n\u001b[1;32m     53\u001b[0m \u001b[0;32mdef\u001b[0m \u001b[0mcalc_MI\u001b[0m\u001b[0;34m(\u001b[0m\u001b[0mX\u001b[0m\u001b[0;34m,\u001b[0m\u001b[0mY\u001b[0m\u001b[0;34m,\u001b[0m\u001b[0mbins\u001b[0m\u001b[0;34m)\u001b[0m\u001b[0;34m:\u001b[0m\u001b[0;34m\u001b[0m\u001b[0;34m\u001b[0m\u001b[0m\n\u001b[1;32m     54\u001b[0m     \u001b[0;32mimport\u001b[0m \u001b[0mnumpy\u001b[0m \u001b[0;32mas\u001b[0m \u001b[0mnp\u001b[0m\u001b[0;34m\u001b[0m\u001b[0;34m\u001b[0m\u001b[0m\n\u001b[0;32m---> 55\u001b[0;31m     \u001b[0mc_XY\u001b[0m \u001b[0;34m=\u001b[0m \u001b[0mnp\u001b[0m\u001b[0;34m.\u001b[0m\u001b[0mhistogram2d\u001b[0m\u001b[0;34m(\u001b[0m\u001b[0mX\u001b[0m\u001b[0;34m,\u001b[0m\u001b[0mY\u001b[0m\u001b[0;34m,\u001b[0m\u001b[0mbins\u001b[0m\u001b[0;34m)\u001b[0m\u001b[0;34m[\u001b[0m\u001b[0;36m0\u001b[0m\u001b[0;34m]\u001b[0m\u001b[0;34m\u001b[0m\u001b[0;34m\u001b[0m\u001b[0m\n\u001b[0m\u001b[1;32m     56\u001b[0m     \u001b[0mc_X\u001b[0m \u001b[0;34m=\u001b[0m \u001b[0mnp\u001b[0m\u001b[0;34m.\u001b[0m\u001b[0mhistogram\u001b[0m\u001b[0;34m(\u001b[0m\u001b[0mX\u001b[0m\u001b[0;34m,\u001b[0m\u001b[0mbins\u001b[0m\u001b[0;34m)\u001b[0m\u001b[0;34m[\u001b[0m\u001b[0;36m0\u001b[0m\u001b[0;34m]\u001b[0m\u001b[0;34m\u001b[0m\u001b[0;34m\u001b[0m\u001b[0m\n\u001b[1;32m     57\u001b[0m     \u001b[0mc_Y\u001b[0m \u001b[0;34m=\u001b[0m \u001b[0mnp\u001b[0m\u001b[0;34m.\u001b[0m\u001b[0mhistogram\u001b[0m\u001b[0;34m(\u001b[0m\u001b[0mY\u001b[0m\u001b[0;34m,\u001b[0m\u001b[0mbins\u001b[0m\u001b[0;34m)\u001b[0m\u001b[0;34m[\u001b[0m\u001b[0;36m0\u001b[0m\u001b[0;34m]\u001b[0m\u001b[0;34m\u001b[0m\u001b[0;34m\u001b[0m\u001b[0m\n",
            "\u001b[0;32m/usr/local/lib/python3.10/dist-packages/numpy/core/overrides.py\u001b[0m in \u001b[0;36mhistogram2d\u001b[0;34m(*args, **kwargs)\u001b[0m\n",
            "\u001b[0;32m/usr/local/lib/python3.10/dist-packages/numpy/lib/twodim_base.py\u001b[0m in \u001b[0;36mhistogram2d\u001b[0;34m(x, y, bins, range, normed, weights, density)\u001b[0m\n\u001b[1;32m    823\u001b[0m         \u001b[0mxedges\u001b[0m \u001b[0;34m=\u001b[0m \u001b[0myedges\u001b[0m \u001b[0;34m=\u001b[0m \u001b[0masarray\u001b[0m\u001b[0;34m(\u001b[0m\u001b[0mbins\u001b[0m\u001b[0;34m)\u001b[0m\u001b[0;34m\u001b[0m\u001b[0;34m\u001b[0m\u001b[0m\n\u001b[1;32m    824\u001b[0m         \u001b[0mbins\u001b[0m \u001b[0;34m=\u001b[0m \u001b[0;34m[\u001b[0m\u001b[0mxedges\u001b[0m\u001b[0;34m,\u001b[0m \u001b[0myedges\u001b[0m\u001b[0;34m]\u001b[0m\u001b[0;34m\u001b[0m\u001b[0;34m\u001b[0m\u001b[0m\n\u001b[0;32m--> 825\u001b[0;31m     \u001b[0mhist\u001b[0m\u001b[0;34m,\u001b[0m \u001b[0medges\u001b[0m \u001b[0;34m=\u001b[0m \u001b[0mhistogramdd\u001b[0m\u001b[0;34m(\u001b[0m\u001b[0;34m[\u001b[0m\u001b[0mx\u001b[0m\u001b[0;34m,\u001b[0m \u001b[0my\u001b[0m\u001b[0;34m]\u001b[0m\u001b[0;34m,\u001b[0m \u001b[0mbins\u001b[0m\u001b[0;34m,\u001b[0m \u001b[0mrange\u001b[0m\u001b[0;34m,\u001b[0m \u001b[0mnormed\u001b[0m\u001b[0;34m,\u001b[0m \u001b[0mweights\u001b[0m\u001b[0;34m,\u001b[0m \u001b[0mdensity\u001b[0m\u001b[0;34m)\u001b[0m\u001b[0;34m\u001b[0m\u001b[0;34m\u001b[0m\u001b[0m\n\u001b[0m\u001b[1;32m    826\u001b[0m     \u001b[0;32mreturn\u001b[0m \u001b[0mhist\u001b[0m\u001b[0;34m,\u001b[0m \u001b[0medges\u001b[0m\u001b[0;34m[\u001b[0m\u001b[0;36m0\u001b[0m\u001b[0;34m]\u001b[0m\u001b[0;34m,\u001b[0m \u001b[0medges\u001b[0m\u001b[0;34m[\u001b[0m\u001b[0;36m1\u001b[0m\u001b[0;34m]\u001b[0m\u001b[0;34m\u001b[0m\u001b[0;34m\u001b[0m\u001b[0m\n\u001b[1;32m    827\u001b[0m \u001b[0;34m\u001b[0m\u001b[0m\n",
            "\u001b[0;32m/usr/local/lib/python3.10/dist-packages/numpy/core/overrides.py\u001b[0m in \u001b[0;36mhistogramdd\u001b[0;34m(*args, **kwargs)\u001b[0m\n",
            "\u001b[0;32m/usr/local/lib/python3.10/dist-packages/numpy/lib/histograms.py\u001b[0m in \u001b[0;36mhistogramdd\u001b[0;34m(sample, bins, range, normed, weights, density)\u001b[0m\n\u001b[1;32m   1057\u001b[0m                 ) from e\n\u001b[1;32m   1058\u001b[0m \u001b[0;34m\u001b[0m\u001b[0m\n\u001b[0;32m-> 1059\u001b[0;31m             \u001b[0medges\u001b[0m\u001b[0;34m[\u001b[0m\u001b[0mi\u001b[0m\u001b[0;34m]\u001b[0m \u001b[0;34m=\u001b[0m \u001b[0mnp\u001b[0m\u001b[0;34m.\u001b[0m\u001b[0mlinspace\u001b[0m\u001b[0;34m(\u001b[0m\u001b[0msmin\u001b[0m\u001b[0;34m,\u001b[0m \u001b[0msmax\u001b[0m\u001b[0;34m,\u001b[0m \u001b[0mn\u001b[0m \u001b[0;34m+\u001b[0m \u001b[0;36m1\u001b[0m\u001b[0;34m)\u001b[0m\u001b[0;34m\u001b[0m\u001b[0;34m\u001b[0m\u001b[0m\n\u001b[0m\u001b[1;32m   1060\u001b[0m         \u001b[0;32melif\u001b[0m \u001b[0mnp\u001b[0m\u001b[0;34m.\u001b[0m\u001b[0mndim\u001b[0m\u001b[0;34m(\u001b[0m\u001b[0mbins\u001b[0m\u001b[0;34m[\u001b[0m\u001b[0mi\u001b[0m\u001b[0;34m]\u001b[0m\u001b[0;34m)\u001b[0m \u001b[0;34m==\u001b[0m \u001b[0;36m1\u001b[0m\u001b[0;34m:\u001b[0m\u001b[0;34m\u001b[0m\u001b[0;34m\u001b[0m\u001b[0m\n\u001b[1;32m   1061\u001b[0m             \u001b[0medges\u001b[0m\u001b[0;34m[\u001b[0m\u001b[0mi\u001b[0m\u001b[0;34m]\u001b[0m \u001b[0;34m=\u001b[0m \u001b[0mnp\u001b[0m\u001b[0;34m.\u001b[0m\u001b[0masarray\u001b[0m\u001b[0;34m(\u001b[0m\u001b[0mbins\u001b[0m\u001b[0;34m[\u001b[0m\u001b[0mi\u001b[0m\u001b[0;34m]\u001b[0m\u001b[0;34m)\u001b[0m\u001b[0;34m\u001b[0m\u001b[0;34m\u001b[0m\u001b[0m\n",
            "\u001b[0;32m/usr/local/lib/python3.10/dist-packages/numpy/core/overrides.py\u001b[0m in \u001b[0;36mlinspace\u001b[0;34m(*args, **kwargs)\u001b[0m\n",
            "\u001b[0;32m/usr/local/lib/python3.10/dist-packages/numpy/core/function_base.py\u001b[0m in \u001b[0;36mlinspace\u001b[0;34m(start, stop, num, endpoint, retstep, dtype, axis)\u001b[0m\n\u001b[1;32m     21\u001b[0m \u001b[0;34m\u001b[0m\u001b[0m\n\u001b[1;32m     22\u001b[0m \u001b[0;34m\u001b[0m\u001b[0m\n\u001b[0;32m---> 23\u001b[0;31m \u001b[0;34m@\u001b[0m\u001b[0marray_function_dispatch\u001b[0m\u001b[0;34m(\u001b[0m\u001b[0m_linspace_dispatcher\u001b[0m\u001b[0;34m)\u001b[0m\u001b[0;34m\u001b[0m\u001b[0;34m\u001b[0m\u001b[0m\n\u001b[0m\u001b[1;32m     24\u001b[0m def linspace(start, stop, num=50, endpoint=True, retstep=False, dtype=None,\n\u001b[1;32m     25\u001b[0m              axis=0):\n",
            "\u001b[0;31mKeyboardInterrupt\u001b[0m: "
          ]
        }
      ]
    },
    {
      "cell_type": "code",
      "source": [
        "#3.6 Concat MI-based dynamic adjacency matrix\n",
        "#Index all of the rows and columns\n",
        "DyConcatMI=[]\n",
        "for k in range(COVID_features_aftslid.shape[0]):\n",
        "    for i in range(COVID_features_aftslid.shape[2]):\n",
        "        for j in range(COVID_features_aftslid.shape[2]):\n",
        "            DyConcatMI.append(Global_MeanMI(COVID_features_aftslid[:k,:,i],\n",
        "                                    COVID_features_aftslid[:k,:,j],2))\n",
        "DyConcatMI=np.array(DyConcatMI).reshape(COVID_features_aftslid.shape[2],COVID_features_aftslid.shape[2],COVID_features_aftslid.shape[0])\n",
        "DyConcatMI=DyConcatMI.transpose(2, 0, 1)\n",
        "from fancyimpute import SimpleFill, NuclearNormMinimization, SoftImpute, BiScaler\n",
        "for i in range(DyConcatMI.shape[0]):\n",
        "    MEAN_imputer = SimpleFill()\n",
        "    DyConcatMI[i,:,:]=MEAN_imputer.fit_transform(DyConcatMI[i,:,:])\n",
        "print(DyConcatMI)#Here DyConcatMI is done\n"
      ],
      "metadata": {
        "id": "1e3h8P8IWgXY"
      },
      "execution_count": null,
      "outputs": []
    },
    {
      "cell_type": "code",
      "source": [
        "#3.7 FFT-based sum batch's MI dynamic adjacency matrix\n",
        "yf = abs(fft(COVID_features_aftslid[:,0,0]))\n",
        "T=yf[:3]\n",
        "T = [int(x) for x in T]\n",
        "Term1=T[0]\n",
        "Term2=T[1]\n",
        "Term3=T[2]\n",
        "#Step1: Calculate Adj in each batch\n",
        "#(1) Term1\n",
        "a=[]\n",
        "from math import ceil#Eg:Ceil(2.2)=3\n",
        "for i in range(COVID_features_aftslid.shape[2]):\n",
        "    for j in range(COVID_features_aftslid.shape[2]):\n",
        "        for k in np.arange(ceil(COVID_features_aftslid.shape[0]/Term1)):\n",
        "            a.append(Global_MeanMI(COVID_features_aftslid[k*Term1:k*Term1+Term1,:,i],COVID_features_aftslid[k*Term1:k*Term1+Term1,:,j],2))\n",
        "a=np.array(a).reshape(COVID_features_aftslid.shape[2],COVID_features_aftslid.shape[2],ceil(COVID_features_aftslid.shape[0]/Term1))#a:(7, 7, 23)\n",
        "a=a.transpose(2,0,1)\n",
        "print(a.shape)#(24,7,7)\n",
        "\n",
        "#(2) Term2\n",
        "b=[]\n",
        "for i in range(COVID_features_aftslid.shape[2]):\n",
        "    for j in range(COVID_features_aftslid.shape[2]):\n",
        "        for k in np.arange(ceil(COVID_features_aftslid.shape[0]/Term2)):\n",
        "            b.append(Global_MeanMI(COVID_features_aftslid[k*Term2:k*Term2+Term2,:,i],COVID_features_aftslid[k*Term2:k*Term2+Term2,:,j],2))\n",
        "b=np.array(b).reshape(COVID_features_aftslid.shape[2],COVID_features_aftslid.shape[2],ceil(COVID_features_aftslid.shape[0]/Term2))#a:(7, 7, 23)\n",
        "print(b.shape)#(7, 7, 12)\n",
        "b=b.transpose(2,0,1)\n",
        "print(b.shape)#(12,7,7)\n",
        "\n",
        "#(3) Term3\n",
        "c=[]\n",
        "for i in range(COVID_features_aftslid.shape[2]):\n",
        "    for j in range(COVID_features_aftslid.shape[2]):\n",
        "        for k in np.arange(ceil(COVID_features_aftslid.shape[0]/Term3)):\n",
        "            c.append(Global_MeanMI(COVID_features_aftslid[k*Term3:k*Term3+Term3,:,i],COVID_features_aftslid[k*Term3:k*Term3+Term3,:,j],2))\n",
        "c=np.array(c).reshape(COVID_features_aftslid.shape[2],COVID_features_aftslid.shape[2],ceil(COVID_features_aftslid.shape[0]/Term3))#a:(7, 7, 23)\n",
        "print(c.shape)#(7, 7, 5)\n",
        "c=c.transpose(2,0,1)\n",
        "print(c.shape)#(5,7,7)\n",
        "#Step2:Assign it to particular position:\n",
        "#Each timestamp from the same batch share the same Adj.\n",
        "#MeanMI\n",
        "data=[]\n",
        "for j in range(a.shape[0]):\n",
        "    for i in range(Term1):\n",
        "        data.append(a[j,:,:])\n",
        "data=np.array(data)\n",
        "test=data\n",
        "DyConcatMI1=test[:DyConcatMI.shape[0],:,:]\n",
        "print(DyConcatMI1.shape)#(473,7,7)\n",
        "\n",
        "data=[]\n",
        "for j in range(b.shape[0]):\n",
        "    for i in range(Term2):\n",
        "        data.append(b[j,:,:])\n",
        "data=np.array(data)\n",
        "test=data\n",
        "DyConcatMI2=test[:DyConcatMI.shape[0],:,:]\n",
        "print(DyConcatMI2.shape)#(473,7,7)\n",
        "\n",
        "data=[]\n",
        "for j in range(c.shape[0]):\n",
        "    for i in range(Term3):\n",
        "        data.append(c[j,:,:])\n",
        "data=np.array(data)\n",
        "test=data\n",
        "DyConcatMI3=test[:DyConcatMI.shape[0],:,:]\n",
        "print(DyConcatMI3.shape)#(473,7,7)\n",
        "\n",
        "# Step3: Add all of the adjacency matrices\n",
        "DyConcatFFTMI=DyConcatMI1+DyConcatMI2+DyConcatMI3\n",
        "print(DyConcatFFTMI.shape)#(473,7,7)\n",
        "\n",
        "# Step4: Normalize adjacency matrices\n",
        "from sklearn.preprocessing import MinMaxScaler\n",
        "for i in range(DyConcatFFTMI.shape[0]):\n",
        "    scaler = MinMaxScaler(feature_range=(0, 1))\n",
        "    DyConcatFFTMI[i,:,:] = scaler.fit_transform(DyConcatFFTMI[i,:,:])\n",
        "print(DyConcatFFTMI)"
      ],
      "metadata": {
        "id": "sPsXDxLOWiw1"
      },
      "execution_count": null,
      "outputs": []
    },
    {
      "cell_type": "code",
      "source": [
        "print(COVID_features_aftslid.shape)"
      ],
      "metadata": {
        "colab": {
          "base_uri": "https://localhost:8080/"
        },
        "id": "6lHFmWS9X1_O",
        "outputId": "db12bc53-d33c-4873-b3e9-f581044acef2"
      },
      "execution_count": 35,
      "outputs": [
        {
          "output_type": "stream",
          "name": "stdout",
          "text": [
            "(7266, 6, 10)\n"
          ]
        }
      ]
    },
    {
      "cell_type": "code",
      "source": [],
      "metadata": {
        "colab": {
          "base_uri": "https://localhost:8080/"
        },
        "id": "YXuTEJSdYEdW",
        "outputId": "c3c80bcf-ab5a-4954-9831-295bba5b1a2c"
      },
      "execution_count": 43,
      "outputs": [
        {
          "output_type": "stream",
          "name": "stdout",
          "text": [
            "[5370, 568, 109]\n"
          ]
        }
      ]
    },
    {
      "cell_type": "code",
      "source": [
        "#3.8 FFT-based MI-based dynamic adjacency matrix\n",
        "yf = abs(fft(COVID_features_aftslid[:,0,0]))\n",
        "T=yf[:3]\n",
        "T = [int(x) for x in T]\n",
        "Term1=T[0]\n",
        "Term2=T[1]\n",
        "Term3=T[2]\n",
        "\n",
        "#Step1: Calculate Adj in each window\n",
        "\n",
        "#(1) Term1\n",
        "a=[]\n",
        "from math import ceil#Eg:Ceil(2.2)=3\n",
        "for i in range(COVID_features_aftslid.shape[2]):\n",
        "    for j in range(COVID_features_aftslid.shape[2]):\n",
        "        for k in np.arange(ceil(COVID_features_aftslid.shape[0]/Term1)):\n",
        "            a.append(Global_MeanMI(COVID_features_aftslid[k*Term1:k*Term1+Term1,:,i],COVID_features_aftslid[k*Term1:k*Term1+Term1,:,j],2))\n",
        "a=np.array(a).reshape(COVID_features_aftslid.shape[2],COVID_features_aftslid.shape[2],ceil(COVID_features_aftslid.shape[0]/Term1))#a:(7, 7, 23)\n",
        "a=a.transpose(2,0,1)\n",
        "print(a.shape)#(24,7,7)\n",
        "\n",
        "#(2) Term2\n",
        "b=[]\n",
        "for i in range(COVID_features_aftslid.shape[2]):\n",
        "    for j in range(COVID_features_aftslid.shape[2]):\n",
        "        for k in np.arange(ceil(COVID_features_aftslid.shape[0]/Term2)):\n",
        "            b.append(Global_MeanMI(COVID_features_aftslid[k*Term2:k*Term2+Term2,:,i],COVID_features_aftslid[k*Term2:k*Term2+Term2,:,j],2))\n",
        "b=np.array(b).reshape(COVID_features_aftslid.shape[2],COVID_features_aftslid.shape[2],ceil(COVID_features_aftslid.shape[0]/Term2))#a:(7, 7, 23)\n",
        "print(b.shape)#(7, 7, 12)\n",
        "b=b.transpose(2,0,1)\n",
        "print(b.shape)#(12,7,7)\n",
        "\n",
        "#(3) Term3\n",
        "c=[]\n",
        "for i in range(COVID_features_aftslid.shape[2]):\n",
        "    for j in range(COVID_features_aftslid.shape[2]):\n",
        "        for k in np.arange(ceil(COVID_features_aftslid.shape[0]/Term3)):\n",
        "            c.append(Global_MeanMI(COVID_features_aftslid[k*Term3:k*Term3+Term3,:,i],COVID_features_aftslid[k*Term3:k*Term3+Term3,:,j],2))\n",
        "c=np.array(c).reshape(COVID_features_aftslid.shape[2],COVID_features_aftslid.shape[2],ceil(COVID_features_aftslid.shape[0]/Term3))#a:(7, 7, 23)\n",
        "print(c.shape)#(7, 7, 5)\n",
        "c=c.transpose(2,0,1)\n",
        "print(c.shape)#(5,7,7)\n",
        "#Step2: Calculate MI's MI for periodic term 1\n",
        "#Term1\n",
        "temp=[]\n",
        "for j in range(a.shape[0]):\n",
        "    for i in range(a.shape[0]):\n",
        "        temp.append(Global_MeanMI(a[j,:,:],a[i,:,:],2))#The first point MI's MI\n",
        "temp=np.array(temp).reshape(a.shape[0],a.shape[0])#24*24\n",
        "\n",
        "#Step3: Weighted sum for the same periodic term\n",
        "index_all=np.arange(temp.shape[0]*temp.shape[0]).reshape(a.shape[0],a.shape[0])#Initialization of index_all,shape=24*24\n",
        "for i in range(temp.shape[0]):\n",
        "    arrIndex=temp[i,:].argsort()\n",
        "    temp[i,:]=temp[i,:][arrIndex[::-1]]\n",
        "    index_all[i,:]=arrIndex\n",
        "print(temp.shape)#24*24\n",
        "print(index_all.shape)#24*24\n",
        "\n",
        "all_term=5#Get the first 5 decomposition\n",
        "a_all=np.zeros((a.shape[0],COVID_features_aftslid.shape[2],COVID_features_aftslid.shape[2]))\n",
        "for i in range(a.shape[0]):\n",
        "    for u in range(all_term):\n",
        "        a_all[i,:,:]=a_all[i,:,:]+a[i,:,:]+index_all[i,u]*temp[i,u]\n",
        "print(a_all.shape)#(24,7,7)\n",
        "\n",
        "#Step2: Calculate MI's MI for periodic term 2\n",
        "#Term2\n",
        "temp=[]\n",
        "for j in range(b.shape[0]):\n",
        "    for i in range(b.shape[0]):\n",
        "        temp.append(Global_MeanMI(b[j,:,:],b[i,:,:],2))#The first point MI's MI\n",
        "temp=np.array(temp).reshape(b.shape[0],b.shape[0])#12*12\n",
        "\n",
        "#Step3: Weighted sum for the same periodic term\n",
        "index_all=np.arange(temp.shape[0]*temp.shape[0]).reshape(b.shape[0],b.shape[0])#Initialization of index_all,shape=24*24\n",
        "for i in range(temp.shape[0]):\n",
        "    arrIndex=temp[i,:].argsort()\n",
        "    temp[i,:]=temp[i,:][arrIndex[::-1]]\n",
        "    index_all[i,:]=arrIndex\n",
        "print(temp.shape)#12*12\n",
        "print(index_all.shape)#12*12\n",
        "\n",
        "all_term=5#Get the first 5 decomposition\n",
        "b_all=np.zeros((b.shape[0],COVID_features_aftslid.shape[2],COVID_features_aftslid.shape[2]))\n",
        "for i in range(b.shape[0]):\n",
        "    for u in range(all_term):\n",
        "        b_all[i,:,:]=b_all[i,:,:]+b[i,:,:]+index_all[i,u]*temp[i,u]\n",
        "print(b_all.shape)#(12,7,7)\n",
        "\n",
        "#Step2: Calculate MI's MI for periodic term 3\n",
        "#Term3\n",
        "temp=[]\n",
        "for j in range(c.shape[0]):\n",
        "    for i in range(c.shape[0]):\n",
        "        temp.append(Global_MeanMI(c[j,:,:],c[i,:,:],2))#The first point MI's MI\n",
        "temp=np.array(temp).reshape(c.shape[0],c.shape[0])#12*12\n",
        "\n",
        "#Step3: Weighted sum for the same periodic term\n",
        "index_all=np.arange(temp.shape[0]*temp.shape[0]).reshape(c.shape[0],c.shape[0])#Initialization of index_all,shape=24*24\n",
        "for i in range(temp.shape[0]):\n",
        "    arrIndex=temp[i,:].argsort()\n",
        "    temp[i,:]=temp[i,:][arrIndex[::-1]]\n",
        "    index_all[i,:]=arrIndex\n",
        "print(temp.shape)#5*5\n",
        "print(index_all.shape)#5*5\n",
        "\n",
        "all_term=5#Get the first 5 decomposition\n",
        "c_all=np.zeros((c.shape[0],COVID_features_aftslid.shape[2],COVID_features_aftslid.shape[2]))\n",
        "for i in range(c.shape[0]):\n",
        "    for u in range(all_term):\n",
        "        c_all[i,:,:]=c_all[i,:,:]+c[i,:,:]+index_all[i,u]*temp[i,u]\n",
        "print(c_all.shape)#(5,7,7)\n",
        "\n",
        "#Step4:Assign it to particular position:\n",
        "#Each timestamp from the same batch share the same Adj.\n",
        "#MeanMI\n",
        "data=[]\n",
        "for j in range(a_all.shape[0]):\n",
        "    for i in range(Term1):\n",
        "        data.append(a_all[j,:,:])\n",
        "data=np.array(data)\n",
        "test=data\n",
        "DyConcatMI1=test[:DyConcatMI.shape[0],:,:]\n",
        "print(DyConcatMI1.shape)#(473,7,7)\n",
        "\n",
        "data=[]\n",
        "for j in range(b_all.shape[0]):\n",
        "    for i in range(Term2):\n",
        "        data.append(b_all[j,:,:])\n",
        "data=np.array(data)\n",
        "test=data\n",
        "DyConcatMI2=test[:DyConcatMI.shape[0],:,:]\n",
        "print(DyConcatMI2.shape)#(473,7,7)\n",
        "\n",
        "data=[]\n",
        "for j in range(c_all.shape[0]):\n",
        "    for i in range(Term3):\n",
        "        data.append(c_all[j,:,:])\n",
        "data=np.array(data)\n",
        "test=data\n",
        "DyConcatMI3=test[:DyConcatMI.shape[0],:,:]\n",
        "print(DyConcatMI3.shape)#(473,7,7)\n",
        "\n",
        "# Step5: Add all of the adjacency matrices\n",
        "DyConcatFFTeachMI=DyConcatMI1+DyConcatMI2+DyConcatMI3\n",
        "print(DyConcatFFTeachMI.shape)#(473,7,7)\n",
        "\n",
        "# Step6: Normalize adjacency matrices\n",
        "from sklearn.preprocessing import MinMaxScaler\n",
        "for i in range(DyConcatFFTeachMI.shape[0]):\n",
        "    scaler = MinMaxScaler(feature_range=(0, 1))\n",
        "    DyConcatFFTeachMI[i,:,:] = scaler.fit_transform(DyConcatFFTeachMI[i,:,:])\n",
        "print(DyConcatFFTeachMI)"
      ],
      "metadata": {
        "colab": {
          "base_uri": "https://localhost:8080/",
          "height": 444
        },
        "id": "VhQ3Vx2uWu-N",
        "outputId": "0055bb31-1c38-4825-9a03-3940b2095cd1"
      },
      "execution_count": 45,
      "outputs": [
        {
          "output_type": "stream",
          "name": "stdout",
          "text": [
            "(2, 10, 10)\n",
            "(10, 10, 13)\n",
            "(13, 10, 10)\n"
          ]
        },
        {
          "output_type": "error",
          "ename": "KeyboardInterrupt",
          "evalue": "",
          "traceback": [
            "\u001b[0;31m---------------------------------------------------------------------------\u001b[0m",
            "\u001b[0;31mKeyboardInterrupt\u001b[0m                         Traceback (most recent call last)",
            "\u001b[0;32m<ipython-input-45-8243a745dc07>\u001b[0m in \u001b[0;36m<cell line: 35>\u001b[0;34m()\u001b[0m\n\u001b[1;32m     36\u001b[0m     \u001b[0;32mfor\u001b[0m \u001b[0mj\u001b[0m \u001b[0;32min\u001b[0m \u001b[0mrange\u001b[0m\u001b[0;34m(\u001b[0m\u001b[0mCOVID_features_aftslid\u001b[0m\u001b[0;34m.\u001b[0m\u001b[0mshape\u001b[0m\u001b[0;34m[\u001b[0m\u001b[0;36m2\u001b[0m\u001b[0;34m]\u001b[0m\u001b[0;34m)\u001b[0m\u001b[0;34m:\u001b[0m\u001b[0;34m\u001b[0m\u001b[0;34m\u001b[0m\u001b[0m\n\u001b[1;32m     37\u001b[0m         \u001b[0;32mfor\u001b[0m \u001b[0mk\u001b[0m \u001b[0;32min\u001b[0m \u001b[0mnp\u001b[0m\u001b[0;34m.\u001b[0m\u001b[0marange\u001b[0m\u001b[0;34m(\u001b[0m\u001b[0mceil\u001b[0m\u001b[0;34m(\u001b[0m\u001b[0mCOVID_features_aftslid\u001b[0m\u001b[0;34m.\u001b[0m\u001b[0mshape\u001b[0m\u001b[0;34m[\u001b[0m\u001b[0;36m0\u001b[0m\u001b[0;34m]\u001b[0m\u001b[0;34m/\u001b[0m\u001b[0mTerm3\u001b[0m\u001b[0;34m)\u001b[0m\u001b[0;34m)\u001b[0m\u001b[0;34m:\u001b[0m\u001b[0;34m\u001b[0m\u001b[0;34m\u001b[0m\u001b[0m\n\u001b[0;32m---> 38\u001b[0;31m             \u001b[0mc\u001b[0m\u001b[0;34m.\u001b[0m\u001b[0mappend\u001b[0m\u001b[0;34m(\u001b[0m\u001b[0mGlobal_MeanMI\u001b[0m\u001b[0;34m(\u001b[0m\u001b[0mCOVID_features_aftslid\u001b[0m\u001b[0;34m[\u001b[0m\u001b[0mk\u001b[0m\u001b[0;34m*\u001b[0m\u001b[0mTerm3\u001b[0m\u001b[0;34m:\u001b[0m\u001b[0mk\u001b[0m\u001b[0;34m*\u001b[0m\u001b[0mTerm3\u001b[0m\u001b[0;34m+\u001b[0m\u001b[0mTerm3\u001b[0m\u001b[0;34m,\u001b[0m\u001b[0;34m:\u001b[0m\u001b[0;34m,\u001b[0m\u001b[0mi\u001b[0m\u001b[0;34m]\u001b[0m\u001b[0;34m,\u001b[0m\u001b[0mCOVID_features_aftslid\u001b[0m\u001b[0;34m[\u001b[0m\u001b[0mk\u001b[0m\u001b[0;34m*\u001b[0m\u001b[0mTerm3\u001b[0m\u001b[0;34m:\u001b[0m\u001b[0mk\u001b[0m\u001b[0;34m*\u001b[0m\u001b[0mTerm3\u001b[0m\u001b[0;34m+\u001b[0m\u001b[0mTerm3\u001b[0m\u001b[0;34m,\u001b[0m\u001b[0;34m:\u001b[0m\u001b[0;34m,\u001b[0m\u001b[0mj\u001b[0m\u001b[0;34m]\u001b[0m\u001b[0;34m,\u001b[0m\u001b[0;36m2\u001b[0m\u001b[0;34m)\u001b[0m\u001b[0;34m)\u001b[0m\u001b[0;34m\u001b[0m\u001b[0;34m\u001b[0m\u001b[0m\n\u001b[0m\u001b[1;32m     39\u001b[0m \u001b[0mc\u001b[0m\u001b[0;34m=\u001b[0m\u001b[0mnp\u001b[0m\u001b[0;34m.\u001b[0m\u001b[0marray\u001b[0m\u001b[0;34m(\u001b[0m\u001b[0mc\u001b[0m\u001b[0;34m)\u001b[0m\u001b[0;34m.\u001b[0m\u001b[0mreshape\u001b[0m\u001b[0;34m(\u001b[0m\u001b[0mCOVID_features_aftslid\u001b[0m\u001b[0;34m.\u001b[0m\u001b[0mshape\u001b[0m\u001b[0;34m[\u001b[0m\u001b[0;36m2\u001b[0m\u001b[0;34m]\u001b[0m\u001b[0;34m,\u001b[0m\u001b[0mCOVID_features_aftslid\u001b[0m\u001b[0;34m.\u001b[0m\u001b[0mshape\u001b[0m\u001b[0;34m[\u001b[0m\u001b[0;36m2\u001b[0m\u001b[0;34m]\u001b[0m\u001b[0;34m,\u001b[0m\u001b[0mceil\u001b[0m\u001b[0;34m(\u001b[0m\u001b[0mCOVID_features_aftslid\u001b[0m\u001b[0;34m.\u001b[0m\u001b[0mshape\u001b[0m\u001b[0;34m[\u001b[0m\u001b[0;36m0\u001b[0m\u001b[0;34m]\u001b[0m\u001b[0;34m/\u001b[0m\u001b[0mTerm3\u001b[0m\u001b[0;34m)\u001b[0m\u001b[0;34m)\u001b[0m\u001b[0;31m#a:(7, 7, 23)\u001b[0m\u001b[0;34m\u001b[0m\u001b[0;34m\u001b[0m\u001b[0m\n\u001b[1;32m     40\u001b[0m \u001b[0mprint\u001b[0m\u001b[0;34m(\u001b[0m\u001b[0mc\u001b[0m\u001b[0;34m.\u001b[0m\u001b[0mshape\u001b[0m\u001b[0;34m)\u001b[0m\u001b[0;31m#(7, 7, 5)\u001b[0m\u001b[0;34m\u001b[0m\u001b[0;34m\u001b[0m\u001b[0m\n",
            "\u001b[0;32m/content/DAMR/model.py\u001b[0m in \u001b[0;36mGlobal_MeanMI\u001b[0;34m(data1, data2, bins)\u001b[0m\n\u001b[1;32m    132\u001b[0m     \u001b[0mMean_MI\u001b[0m\u001b[0;34m=\u001b[0m\u001b[0;34m[\u001b[0m\u001b[0;34m]\u001b[0m\u001b[0;34m\u001b[0m\u001b[0;34m\u001b[0m\u001b[0m\n\u001b[1;32m    133\u001b[0m     \u001b[0;32mfor\u001b[0m \u001b[0mi\u001b[0m \u001b[0;32min\u001b[0m \u001b[0mrange\u001b[0m\u001b[0;34m(\u001b[0m\u001b[0mdata1\u001b[0m\u001b[0;34m.\u001b[0m\u001b[0mshape\u001b[0m\u001b[0;34m[\u001b[0m\u001b[0;36m1\u001b[0m\u001b[0;34m]\u001b[0m\u001b[0;34m)\u001b[0m\u001b[0;34m:\u001b[0m\u001b[0;34m\u001b[0m\u001b[0;34m\u001b[0m\u001b[0m\n\u001b[0;32m--> 134\u001b[0;31m         \u001b[0mMean_MI\u001b[0m\u001b[0;34m.\u001b[0m\u001b[0mappend\u001b[0m\u001b[0;34m(\u001b[0m\u001b[0mcalc_MI\u001b[0m\u001b[0;34m(\u001b[0m\u001b[0mdata1\u001b[0m\u001b[0;34m.\u001b[0m\u001b[0miloc\u001b[0m\u001b[0;34m[\u001b[0m\u001b[0;34m:\u001b[0m\u001b[0;34m,\u001b[0m\u001b[0mi\u001b[0m\u001b[0;34m]\u001b[0m\u001b[0;34m,\u001b[0m\u001b[0mdata2\u001b[0m\u001b[0;34m.\u001b[0m\u001b[0miloc\u001b[0m\u001b[0;34m[\u001b[0m\u001b[0;34m:\u001b[0m\u001b[0;34m,\u001b[0m\u001b[0mi\u001b[0m\u001b[0;34m]\u001b[0m\u001b[0;34m,\u001b[0m\u001b[0mbins\u001b[0m\u001b[0;34m)\u001b[0m\u001b[0;34m)\u001b[0m\u001b[0;34m\u001b[0m\u001b[0;34m\u001b[0m\u001b[0m\n\u001b[0m\u001b[1;32m    135\u001b[0m     \u001b[0mMean_MI\u001b[0m\u001b[0;34m=\u001b[0m\u001b[0mnp\u001b[0m\u001b[0;34m.\u001b[0m\u001b[0mmean\u001b[0m\u001b[0;34m(\u001b[0m\u001b[0mMean_MI\u001b[0m\u001b[0;34m)\u001b[0m\u001b[0;34m\u001b[0m\u001b[0;34m\u001b[0m\u001b[0m\n\u001b[1;32m    136\u001b[0m     \u001b[0;32mreturn\u001b[0m \u001b[0mMean_MI\u001b[0m\u001b[0;34m\u001b[0m\u001b[0;34m\u001b[0m\u001b[0m\n",
            "\u001b[0;32m/content/DAMR/model.py\u001b[0m in \u001b[0;36mcalc_MI\u001b[0;34m(X, Y, bins)\u001b[0m\n\u001b[1;32m     53\u001b[0m \u001b[0;32mdef\u001b[0m \u001b[0mcalc_MI\u001b[0m\u001b[0;34m(\u001b[0m\u001b[0mX\u001b[0m\u001b[0;34m,\u001b[0m\u001b[0mY\u001b[0m\u001b[0;34m,\u001b[0m\u001b[0mbins\u001b[0m\u001b[0;34m)\u001b[0m\u001b[0;34m:\u001b[0m\u001b[0;34m\u001b[0m\u001b[0;34m\u001b[0m\u001b[0m\n\u001b[1;32m     54\u001b[0m     \u001b[0;32mimport\u001b[0m \u001b[0mnumpy\u001b[0m \u001b[0;32mas\u001b[0m \u001b[0mnp\u001b[0m\u001b[0;34m\u001b[0m\u001b[0;34m\u001b[0m\u001b[0m\n\u001b[0;32m---> 55\u001b[0;31m     \u001b[0mc_XY\u001b[0m \u001b[0;34m=\u001b[0m \u001b[0mnp\u001b[0m\u001b[0;34m.\u001b[0m\u001b[0mhistogram2d\u001b[0m\u001b[0;34m(\u001b[0m\u001b[0mX\u001b[0m\u001b[0;34m,\u001b[0m\u001b[0mY\u001b[0m\u001b[0;34m,\u001b[0m\u001b[0mbins\u001b[0m\u001b[0;34m)\u001b[0m\u001b[0;34m[\u001b[0m\u001b[0;36m0\u001b[0m\u001b[0;34m]\u001b[0m\u001b[0;34m\u001b[0m\u001b[0;34m\u001b[0m\u001b[0m\n\u001b[0m\u001b[1;32m     56\u001b[0m     \u001b[0mc_X\u001b[0m \u001b[0;34m=\u001b[0m \u001b[0mnp\u001b[0m\u001b[0;34m.\u001b[0m\u001b[0mhistogram\u001b[0m\u001b[0;34m(\u001b[0m\u001b[0mX\u001b[0m\u001b[0;34m,\u001b[0m\u001b[0mbins\u001b[0m\u001b[0;34m)\u001b[0m\u001b[0;34m[\u001b[0m\u001b[0;36m0\u001b[0m\u001b[0;34m]\u001b[0m\u001b[0;34m\u001b[0m\u001b[0;34m\u001b[0m\u001b[0m\n\u001b[1;32m     57\u001b[0m     \u001b[0mc_Y\u001b[0m \u001b[0;34m=\u001b[0m \u001b[0mnp\u001b[0m\u001b[0;34m.\u001b[0m\u001b[0mhistogram\u001b[0m\u001b[0;34m(\u001b[0m\u001b[0mY\u001b[0m\u001b[0;34m,\u001b[0m\u001b[0mbins\u001b[0m\u001b[0;34m)\u001b[0m\u001b[0;34m[\u001b[0m\u001b[0;36m0\u001b[0m\u001b[0;34m]\u001b[0m\u001b[0;34m\u001b[0m\u001b[0;34m\u001b[0m\u001b[0m\n",
            "\u001b[0;32m/usr/local/lib/python3.10/dist-packages/numpy/core/overrides.py\u001b[0m in \u001b[0;36mhistogram2d\u001b[0;34m(*args, **kwargs)\u001b[0m\n",
            "\u001b[0;32m/usr/local/lib/python3.10/dist-packages/numpy/lib/twodim_base.py\u001b[0m in \u001b[0;36mhistogram2d\u001b[0;34m(x, y, bins, range, normed, weights, density)\u001b[0m\n\u001b[1;32m    823\u001b[0m         \u001b[0mxedges\u001b[0m \u001b[0;34m=\u001b[0m \u001b[0myedges\u001b[0m \u001b[0;34m=\u001b[0m \u001b[0masarray\u001b[0m\u001b[0;34m(\u001b[0m\u001b[0mbins\u001b[0m\u001b[0;34m)\u001b[0m\u001b[0;34m\u001b[0m\u001b[0;34m\u001b[0m\u001b[0m\n\u001b[1;32m    824\u001b[0m         \u001b[0mbins\u001b[0m \u001b[0;34m=\u001b[0m \u001b[0;34m[\u001b[0m\u001b[0mxedges\u001b[0m\u001b[0;34m,\u001b[0m \u001b[0myedges\u001b[0m\u001b[0;34m]\u001b[0m\u001b[0;34m\u001b[0m\u001b[0;34m\u001b[0m\u001b[0m\n\u001b[0;32m--> 825\u001b[0;31m     \u001b[0mhist\u001b[0m\u001b[0;34m,\u001b[0m \u001b[0medges\u001b[0m \u001b[0;34m=\u001b[0m \u001b[0mhistogramdd\u001b[0m\u001b[0;34m(\u001b[0m\u001b[0;34m[\u001b[0m\u001b[0mx\u001b[0m\u001b[0;34m,\u001b[0m \u001b[0my\u001b[0m\u001b[0;34m]\u001b[0m\u001b[0;34m,\u001b[0m \u001b[0mbins\u001b[0m\u001b[0;34m,\u001b[0m \u001b[0mrange\u001b[0m\u001b[0;34m,\u001b[0m \u001b[0mnormed\u001b[0m\u001b[0;34m,\u001b[0m \u001b[0mweights\u001b[0m\u001b[0;34m,\u001b[0m \u001b[0mdensity\u001b[0m\u001b[0;34m)\u001b[0m\u001b[0;34m\u001b[0m\u001b[0;34m\u001b[0m\u001b[0m\n\u001b[0m\u001b[1;32m    826\u001b[0m     \u001b[0;32mreturn\u001b[0m \u001b[0mhist\u001b[0m\u001b[0;34m,\u001b[0m \u001b[0medges\u001b[0m\u001b[0;34m[\u001b[0m\u001b[0;36m0\u001b[0m\u001b[0;34m]\u001b[0m\u001b[0;34m,\u001b[0m \u001b[0medges\u001b[0m\u001b[0;34m[\u001b[0m\u001b[0;36m1\u001b[0m\u001b[0;34m]\u001b[0m\u001b[0;34m\u001b[0m\u001b[0;34m\u001b[0m\u001b[0m\n\u001b[1;32m    827\u001b[0m \u001b[0;34m\u001b[0m\u001b[0m\n",
            "\u001b[0;32m/usr/local/lib/python3.10/dist-packages/numpy/core/overrides.py\u001b[0m in \u001b[0;36mhistogramdd\u001b[0;34m(*args, **kwargs)\u001b[0m\n",
            "\u001b[0;32m/usr/local/lib/python3.10/dist-packages/numpy/lib/histograms.py\u001b[0m in \u001b[0;36mhistogramdd\u001b[0;34m(sample, bins, range, normed, weights, density)\u001b[0m\n\u001b[1;32m   1043\u001b[0m \u001b[0;34m\u001b[0m\u001b[0m\n\u001b[1;32m   1044\u001b[0m     \u001b[0;31m# Create edge arrays\u001b[0m\u001b[0;34m\u001b[0m\u001b[0;34m\u001b[0m\u001b[0m\n\u001b[0;32m-> 1045\u001b[0;31m     \u001b[0;32mfor\u001b[0m \u001b[0mi\u001b[0m \u001b[0;32min\u001b[0m \u001b[0m_range\u001b[0m\u001b[0;34m(\u001b[0m\u001b[0mD\u001b[0m\u001b[0;34m)\u001b[0m\u001b[0;34m:\u001b[0m\u001b[0;34m\u001b[0m\u001b[0;34m\u001b[0m\u001b[0m\n\u001b[0m\u001b[1;32m   1046\u001b[0m         \u001b[0;32mif\u001b[0m \u001b[0mnp\u001b[0m\u001b[0;34m.\u001b[0m\u001b[0mndim\u001b[0m\u001b[0;34m(\u001b[0m\u001b[0mbins\u001b[0m\u001b[0;34m[\u001b[0m\u001b[0mi\u001b[0m\u001b[0;34m]\u001b[0m\u001b[0;34m)\u001b[0m \u001b[0;34m==\u001b[0m \u001b[0;36m0\u001b[0m\u001b[0;34m:\u001b[0m\u001b[0;34m\u001b[0m\u001b[0;34m\u001b[0m\u001b[0m\n\u001b[1;32m   1047\u001b[0m             \u001b[0;32mif\u001b[0m \u001b[0mbins\u001b[0m\u001b[0;34m[\u001b[0m\u001b[0mi\u001b[0m\u001b[0;34m]\u001b[0m \u001b[0;34m<\u001b[0m \u001b[0;36m1\u001b[0m\u001b[0;34m:\u001b[0m\u001b[0;34m\u001b[0m\u001b[0;34m\u001b[0m\u001b[0m\n",
            "\u001b[0;31mKeyboardInterrupt\u001b[0m: "
          ]
        }
      ]
    },
    {
      "cell_type": "code",
      "source": [
        "# Set Hyperpaprameters\n",
        "tf.keras.backend.clear_session()#clear all\n",
        "tf.autograph.set_verbosity(0)#reset to zero\n",
        "learning_rate = 0.0001\n",
        "batch_size =24\n",
        "epochs = 100\n",
        "seed = 42\n",
        "verbose = 1"
      ],
      "metadata": {
        "id": "LaJFl6pOW3AQ"
      },
      "execution_count": null,
      "outputs": []
    },
    {
      "cell_type": "code",
      "source": [
        "## Define Model\n",
        "inputs_ret = Input(shape=(COVID_X1_all_aftslid.shape[1], COVID_X1_all_aftslid.shape[2], ))#7*30=node*lags(Time to look back)\n",
        "inputs_feat = Input(shape=(COVID_features_aftslid.shape[2], COVID_features_aftslid.shape[1], ))#7*6=Node*feature\n",
        "inputs_adj = Input(shape=(Adj_dist.shape[1],Adj_dist.shape[1], ))#7*7=node*node\n",
        "print(inputs_ret.shape)\n",
        "print(inputs_feat.shape)\n",
        "print(inputs_adj.shape)"
      ],
      "metadata": {
        "id": "zumcfCuVW-Tg"
      },
      "execution_count": null,
      "outputs": []
    },
    {
      "cell_type": "code",
      "source": [
        "#GATinput:1.input nodes*lags 2.adj:nodes*nodes\n",
        "#GAToutput:1.channels*att_heads2.Att_weights=nodes*heads*nodes\n",
        "GAT_output_P, Att_weights_P =  GATConv(16, attn_heads=4, concat_heads=True, dropout_rate=0.3, return_attn_coef=True,\n",
        "                                   activation='relu', use_bias=False)([inputs_ret, inputs_adj])\n",
        "Att_weights_P = tf.math.reduce_mean(Att_weights_P, axis=2)#reduce heads,it will be nodes*nodes\n",
        "print(Att_weights_P)\n",
        "GCN_output_P =  GCNConv(16, dropout_rate=0.3,\n",
        "                        activation='relu', use_bias=True)([inputs_feat, inputs_adj])\n",
        "diff_out = DiffusionConv(16, K=6, activation='tanh')([inputs_feat, Att_weights_P])#diff_out=nodes*channels\n",
        "con_out_P_2 = Concatenate(axis=-1)([GAT_output_P, GCN_output_P,diff_out])\n",
        "dense_P = Dense(8, activation='relu')(con_out_P_2)\n",
        "dense_out = Dropout(0.2)(dense_P)\n",
        "outputs = Dense(1)(dense_out)\n",
        "model = Model(inputs=[inputs_ret, inputs_feat, inputs_adj], outputs=outputs)\n",
        "model.compile(optimizer=Adam(learning_rate=learning_rate), loss='mse', metrics=[\"mae\", \"mape\"])\n",
        "model.summary()"
      ],
      "metadata": {
        "id": "S1IHmMFqXCU4"
      },
      "execution_count": null,
      "outputs": []
    },
    {
      "cell_type": "code",
      "source": [
        "#Get 473*7*7 Adj_dist\n",
        "Adj_dist=adj_dist(COVID_lat,COVID_long)#7*7\n",
        "Adj_dist=pd.DataFrame(Adj_dist)\n",
        "Adj_all = np.arange(len(COVID_Y1_all)*Adj_dist.shape[0]*Adj_dist.shape[0]).reshape(len(COVID_Y1_all),Adj_dist.shape[0],Adj_dist.shape[0])#(len,stations,stations)\n",
        "Adj_all[0,:,:]=pd.DataFrame(Adj_all[0,:,:])\n",
        "Adj_all[0,:,:]=Adj_dist\n",
        "data=[]\n",
        "for i in range(Adj_all.shape[0]):\n",
        "    data.append(Adj_dist)\n",
        "data=np.array(data)\n",
        "Adj_dist=data\n",
        "#MeanMI\n",
        "Adj_MeanMI=MeanMI\n",
        "Adj_all = np.arange(len(COVID_Y1_all)*Adj_dist.shape[1]*Adj_dist.shape[1]).reshape(len(COVID_Y1_all),Adj_dist.shape[1],Adj_dist.shape[1])#(len,stations,stations)\n",
        "Adj_all[0,:,:]=pd.DataFrame(Adj_all[0,:,:])\n",
        "Adj_all[0,:,:]=Adj_MeanMI\n",
        "data=[]\n",
        "for i in range(Adj_all.shape[0]):\n",
        "    data.append(Adj_MeanMI)\n",
        "data=np.array(data)\n",
        "Adj_MeanMI=data\n",
        "#ConcatMI\n",
        "Adj_ConcatMI=ConcatMI\n",
        "Adj_all = np.arange(len(COVID_Y1_all)*Adj_dist.shape[1]*Adj_dist.shape[1]).reshape(len(COVID_Y1_all),Adj_dist.shape[1],Adj_dist.shape[1])#(len,stations,stations)\n",
        "Adj_all[0,:,:]=pd.DataFrame(Adj_all[0,:,:])\n",
        "Adj_all[0,:,:]=Adj_ConcatMI\n",
        "data=[]\n",
        "for i in range(Adj_all.shape[0]):\n",
        "    data.append(Adj_ConcatMI)\n",
        "data=np.array(data)\n",
        "Adj_ConcatMI=data\n",
        "#FeatureMI\n",
        "Adj_FeatureMI=FeatureMI\n",
        "Adj_all = np.arange(len(COVID_Y1_all)*Adj_dist.shape[1]*Adj_dist.shape[1]).reshape(len(COVID_Y1_all),Adj_dist.shape[1],Adj_dist.shape[1])#(len,stations,stations)\n",
        "Adj_all[0,:,:]=pd.DataFrame(Adj_all[0,:,:])\n",
        "Adj_all[0,:,:]=Adj_FeatureMI\n",
        "data=[]\n",
        "for i in range(Adj_all.shape[0]):\n",
        "    data.append(Adj_FeatureMI)\n",
        "data=np.array(data)\n",
        "Adj_FeatureMI=data\n"
      ],
      "metadata": {
        "id": "CaJMAgb6XS51"
      },
      "execution_count": null,
      "outputs": []
    },
    {
      "cell_type": "code",
      "source": [
        "print(COVID_features_aftslid.shape)#473*3*7\n",
        "COVID_features_aftslid= np.transpose(COVID_features_aftslid,(0,2,1))#473*7*3\n",
        "print(COVID_X1_all_aftslid.shape)#473*7*30\n",
        "print(np.array(COVID_Y1_all).shape)#(473, 7, 1)\n",
        "print(np.array(Adj_MeanMI).shape)#473*7*7\n",
        "#Normalization\n",
        "scaler = MinMaxScaler(feature_range=(-1, 1))\n",
        "scaled1 = scaler.fit_transform(COVID_Y1_all[:,:,0])\n",
        "COVID_Y1_all[:,:,0]=scaled1"
      ],
      "metadata": {
        "id": "AxClgumBXVAQ"
      },
      "execution_count": null,
      "outputs": []
    },
    {
      "cell_type": "code",
      "source": [
        "#3.9 ->MeanMI approach(3.1+3.2+3.5+3.8)\n",
        "coe1=0.8\n",
        "coe2=0.1\n",
        "coe3=0.1\n",
        "coe4=0.1\n",
        "\n",
        "###innovation: (random search)\n",
        "\n",
        "Adj_all_MeanMI=coe1*Adj_dist+coe2*Adj_MeanMI+coe3*DyMeanMI+coe4*DyConcatFFTeachMI\n",
        "# scaler = MinMaxScaler(feature_range=(-1, 1))\n",
        "# for i in range(Adj_all_MeanMI.shape[0]):\n",
        "#     Adj_all_MeanMI[i,:,:]=scaler.fit_transform(Adj_all_MeanMI[i,:,:])\n",
        "#3.10 ->()ConcatMI approach\n",
        "Adj_all_ConcatMI=coe1*Adj_dist+coe2*Adj_MeanMI+coe3*DyMeanMI+coe4*DyConcatFFTeachMI\n",
        "# for i in range(Adj_all_ConcatMI.shape[0]):\n",
        "#     Adj_all_ConcatMI[i,:,:]=scaler.fit_transform(Adj_all_ConcatMI[i,:,:])"
      ],
      "metadata": {
        "id": "1cCBDiXyXYMX"
      },
      "execution_count": null,
      "outputs": []
    },
    {
      "cell_type": "code",
      "source": [
        "DyConcatMI=Adj_all_ConcatMI\n",
        "x_train=COVID_X1_all_aftslid[:int(len(COVID_X1_all_aftslid)*0.8),:,:]\n",
        "x_val=COVID_X1_all_aftslid[int(len(COVID_X1_all_aftslid)*0.8):int(len(COVID_X1_all_aftslid)*0.9),:,:]\n",
        "x_test=COVID_X1_all_aftslid[int(len(COVID_X1_all_aftslid)*0.9):,:,:]\n",
        "features_train=COVID_features_aftslid[:int(len(COVID_features_aftslid)*0.8),:,:]\n",
        "features_val=COVID_features_aftslid[int(len(COVID_features_aftslid)*0.8):int(len(COVID_features_aftslid)*0.9),:,:]\n",
        "features_test=COVID_features_aftslid[int(len(COVID_features_aftslid)*0.9):,:,:]\n",
        "adj_train=DyConcatMI[:int(len(DyConcatMI)*0.8),:,:]\n",
        "adj_val=DyConcatMI[int(len(DyConcatMI)*0.8):int(len(DyConcatMI)*0.9),:,:]\n",
        "adj_test=DyConcatMI[int(len(DyConcatMI)*0.9):,:,:]\n",
        "y_train=COVID_Y1_all[:int(len(COVID_Y1_all)*0.8),:,:]\n",
        "y_val=COVID_Y1_all[int(len(COVID_Y1_all)*0.8):int(len(COVID_Y1_all)*0.9),:,:]\n",
        "y_test=COVID_Y1_all[int(len(COVID_Y1_all)*0.9):,:,:]"
      ],
      "metadata": {
        "id": "vrljqAvRXZU2"
      },
      "execution_count": null,
      "outputs": []
    },
    {
      "cell_type": "code",
      "source": [
        "tf.config.experimental_run_functions_eagerly(True)\n",
        "# Set Hyperpaprameters\n",
        "tf.keras.backend.clear_session()#clear all\n",
        "tf.autograph.set_verbosity(0)#reset to zero\n",
        "\n",
        "\n",
        "# hists = model.fit(x= [x_train, features_train, adj_train],\n",
        "#                   y= y_train, verbose=verbose, epochs=500,\n",
        "#                   batch_size=batch_size, #validation_split=0.1,\n",
        "#                   validation_data=([x_val, features_val, adj_val], y_val),\n",
        "#                   #test_data=([x_test, features_test, adj_test], y_test),\n",
        "#   )\n",
        "\n",
        "##If you want to train faster, try earlystopping.\n",
        "\n",
        "hists = model.fit(x= [x_train, features_train, adj_train],\n",
        "                  y= y_train, verbose=verbose, epochs=5000,\n",
        "                  batch_size=batch_size, #validation_split=0.1,\n",
        "                  validation_data=([x_val, features_val, adj_val], y_val),\n",
        "                  #test_data=([x_test, features_test, adj_test], y_test),\n",
        "                    callbacks=[EarlyStopping(#monitor=\"val_mean_absolute_error\",\n",
        "                     monitor=\"val_loss\", patience=20, restore_best_weights=True)],\n",
        "  )"
      ],
      "metadata": {
        "id": "s1HuMnYXXcgM"
      },
      "execution_count": null,
      "outputs": []
    },
    {
      "cell_type": "code",
      "source": [
        "def mae(y_true, y_pred):\n",
        "    return np.mean(np.abs(y_pred - y_true))\n",
        "\n",
        "def rmse(y_true, y_pred):\n",
        "    return np.sqrt(np.mean(np.square(y_pred - y_true)))\n",
        "\n",
        "def mape(y_true, y_pred, threshold=0.1):\n",
        "    v = np.clip(np.abs(y_true), threshold, None)\n",
        "    diff = np.abs((y_true - y_pred) / v)\n",
        "    return np.mean(diff, axis=-1).mean()\n",
        "###Write the function of mre\n",
        "def mre(y_true, y_pred):\n",
        "    return np.sum(np.abs(y_pred - y_true))/np.sum(np.abs(y_true))\n",
        "def get_metrics(y, yp):\n",
        "    return {\n",
        "\n",
        "        \"mae\": np.round(mae(y, yp), 4),\n",
        "        \"mape\": np.round(mape(y, yp),4),\n",
        "        \"mre\": np.round(mre(y, yp),4),\n",
        "        \"rmse\": np.round(rmse(y, yp), 4),\n",
        "        #\"MPE\": np.round(MPE(y, yp), 4),\n",
        "        #\"R2\": np.round(R_squared(y, yp),4)\n",
        "    }\n",
        "\n",
        "# scaled1 = scaler.fit_transform(MeanMI)\n",
        "#Get the tensor of test set after masking it.\n",
        "test_predicted = model.predict([x_test, features_test, adj_test])\n",
        "get_metrics(y_test.flatten(), test_predicted.flatten())"
      ],
      "metadata": {
        "id": "FvFoc9sFXfCm"
      },
      "execution_count": null,
      "outputs": []
    }
  ]
}